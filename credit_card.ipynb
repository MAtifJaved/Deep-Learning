{
  "nbformat": 4,
  "nbformat_minor": 0,
  "metadata": {
    "colab": {
      "name": "credit card.ipynb",
      "provenance": [],
      "collapsed_sections": []
    },
    "kernelspec": {
      "name": "python3",
      "display_name": "Python 3"
    },
    "language_info": {
      "name": "python"
    },
    "accelerator": "TPU"
  },
  "cells": [
    {
      "cell_type": "code",
      "metadata": {
        "id": "ZcNTYrY0B6co"
      },
      "source": [
        "import numpy as np # linear algebra\n",
        "import pandas as pd # data processing, CSV file I/O (e.g. pd.read_csv)\n",
        "import tensorflow as tf\n",
        "import matplotlib.pyplot as plt\n",
        "import seaborn as sns"
      ],
      "execution_count": 1,
      "outputs": []
    },
    {
      "cell_type": "code",
      "metadata": {
        "colab": {
          "base_uri": "https://localhost:8080/"
        },
        "id": "MBeFWNbPIKzj",
        "outputId": "67b9c9c1-52b5-45c3-bbe8-9a7154938e41"
      },
      "source": [
        "from google.colab import drive\n",
        "drive.mount('/content/gdrive')"
      ],
      "execution_count": 2,
      "outputs": [
        {
          "output_type": "stream",
          "text": [
            "Mounted at /content/gdrive\n"
          ],
          "name": "stdout"
        }
      ]
    },
    {
      "cell_type": "code",
      "metadata": {
        "id": "1LYiLQSpKCU1"
      },
      "source": [
        "import os\n",
        "os.environ['KAGGLE_CONFIG_DIR'] = \"/content/gdrive/My Drive/Kaggle\""
      ],
      "execution_count": 3,
      "outputs": []
    },
    {
      "cell_type": "code",
      "metadata": {
        "colab": {
          "base_uri": "https://localhost:8080/"
        },
        "id": "yd9aUvF6KgO6",
        "outputId": "446a2c59-92a7-4a0b-b066-42fc220fada9"
      },
      "source": [
        "!kaggle datasets download -d mlg-ulb/creditcardfraud"
      ],
      "execution_count": 4,
      "outputs": [
        {
          "output_type": "stream",
          "text": [
            "Downloading creditcardfraud.zip to /content\n",
            "100% 66.0M/66.0M [00:00<00:00, 93.8MB/s]\n",
            "\n"
          ],
          "name": "stdout"
        }
      ]
    },
    {
      "cell_type": "code",
      "metadata": {
        "colab": {
          "base_uri": "https://localhost:8080/"
        },
        "id": "a3Qi3r5DLFBX",
        "outputId": "c68a31e3-fc07-4944-fffc-c263e094e206"
      },
      "source": [
        "#unzipping the zip files and deleting the zip files\n",
        "!unzip \\*.zip  && rm *.zip"
      ],
      "execution_count": 5,
      "outputs": [
        {
          "output_type": "stream",
          "text": [
            "Archive:  creditcardfraud.zip\n",
            "  inflating: creditcard.csv          \n"
          ],
          "name": "stdout"
        }
      ]
    },
    {
      "cell_type": "code",
      "metadata": {
        "id": "XA_DdwZOLSg-"
      },
      "source": [
        "data = pd.read_csv('creditcard.csv')"
      ],
      "execution_count": 6,
      "outputs": []
    },
    {
      "cell_type": "code",
      "metadata": {
        "colab": {
          "base_uri": "https://localhost:8080/",
          "height": 439
        },
        "id": "HnsE3CTgNBc4",
        "outputId": "b38503b6-b261-400f-b2a4-4a3e4c4fa02a"
      },
      "source": [
        "data"
      ],
      "execution_count": 7,
      "outputs": [
        {
          "output_type": "execute_result",
          "data": {
            "text/html": [
              "<div>\n",
              "<style scoped>\n",
              "    .dataframe tbody tr th:only-of-type {\n",
              "        vertical-align: middle;\n",
              "    }\n",
              "\n",
              "    .dataframe tbody tr th {\n",
              "        vertical-align: top;\n",
              "    }\n",
              "\n",
              "    .dataframe thead th {\n",
              "        text-align: right;\n",
              "    }\n",
              "</style>\n",
              "<table border=\"1\" class=\"dataframe\">\n",
              "  <thead>\n",
              "    <tr style=\"text-align: right;\">\n",
              "      <th></th>\n",
              "      <th>Time</th>\n",
              "      <th>V1</th>\n",
              "      <th>V2</th>\n",
              "      <th>V3</th>\n",
              "      <th>V4</th>\n",
              "      <th>V5</th>\n",
              "      <th>V6</th>\n",
              "      <th>V7</th>\n",
              "      <th>V8</th>\n",
              "      <th>V9</th>\n",
              "      <th>V10</th>\n",
              "      <th>V11</th>\n",
              "      <th>V12</th>\n",
              "      <th>V13</th>\n",
              "      <th>V14</th>\n",
              "      <th>V15</th>\n",
              "      <th>V16</th>\n",
              "      <th>V17</th>\n",
              "      <th>V18</th>\n",
              "      <th>V19</th>\n",
              "      <th>V20</th>\n",
              "      <th>V21</th>\n",
              "      <th>V22</th>\n",
              "      <th>V23</th>\n",
              "      <th>V24</th>\n",
              "      <th>V25</th>\n",
              "      <th>V26</th>\n",
              "      <th>V27</th>\n",
              "      <th>V28</th>\n",
              "      <th>Amount</th>\n",
              "      <th>Class</th>\n",
              "    </tr>\n",
              "  </thead>\n",
              "  <tbody>\n",
              "    <tr>\n",
              "      <th>0</th>\n",
              "      <td>0.0</td>\n",
              "      <td>-1.359807</td>\n",
              "      <td>-0.072781</td>\n",
              "      <td>2.536347</td>\n",
              "      <td>1.378155</td>\n",
              "      <td>-0.338321</td>\n",
              "      <td>0.462388</td>\n",
              "      <td>0.239599</td>\n",
              "      <td>0.098698</td>\n",
              "      <td>0.363787</td>\n",
              "      <td>0.090794</td>\n",
              "      <td>-0.551600</td>\n",
              "      <td>-0.617801</td>\n",
              "      <td>-0.991390</td>\n",
              "      <td>-0.311169</td>\n",
              "      <td>1.468177</td>\n",
              "      <td>-0.470401</td>\n",
              "      <td>0.207971</td>\n",
              "      <td>0.025791</td>\n",
              "      <td>0.403993</td>\n",
              "      <td>0.251412</td>\n",
              "      <td>-0.018307</td>\n",
              "      <td>0.277838</td>\n",
              "      <td>-0.110474</td>\n",
              "      <td>0.066928</td>\n",
              "      <td>0.128539</td>\n",
              "      <td>-0.189115</td>\n",
              "      <td>0.133558</td>\n",
              "      <td>-0.021053</td>\n",
              "      <td>149.62</td>\n",
              "      <td>0</td>\n",
              "    </tr>\n",
              "    <tr>\n",
              "      <th>1</th>\n",
              "      <td>0.0</td>\n",
              "      <td>1.191857</td>\n",
              "      <td>0.266151</td>\n",
              "      <td>0.166480</td>\n",
              "      <td>0.448154</td>\n",
              "      <td>0.060018</td>\n",
              "      <td>-0.082361</td>\n",
              "      <td>-0.078803</td>\n",
              "      <td>0.085102</td>\n",
              "      <td>-0.255425</td>\n",
              "      <td>-0.166974</td>\n",
              "      <td>1.612727</td>\n",
              "      <td>1.065235</td>\n",
              "      <td>0.489095</td>\n",
              "      <td>-0.143772</td>\n",
              "      <td>0.635558</td>\n",
              "      <td>0.463917</td>\n",
              "      <td>-0.114805</td>\n",
              "      <td>-0.183361</td>\n",
              "      <td>-0.145783</td>\n",
              "      <td>-0.069083</td>\n",
              "      <td>-0.225775</td>\n",
              "      <td>-0.638672</td>\n",
              "      <td>0.101288</td>\n",
              "      <td>-0.339846</td>\n",
              "      <td>0.167170</td>\n",
              "      <td>0.125895</td>\n",
              "      <td>-0.008983</td>\n",
              "      <td>0.014724</td>\n",
              "      <td>2.69</td>\n",
              "      <td>0</td>\n",
              "    </tr>\n",
              "    <tr>\n",
              "      <th>2</th>\n",
              "      <td>1.0</td>\n",
              "      <td>-1.358354</td>\n",
              "      <td>-1.340163</td>\n",
              "      <td>1.773209</td>\n",
              "      <td>0.379780</td>\n",
              "      <td>-0.503198</td>\n",
              "      <td>1.800499</td>\n",
              "      <td>0.791461</td>\n",
              "      <td>0.247676</td>\n",
              "      <td>-1.514654</td>\n",
              "      <td>0.207643</td>\n",
              "      <td>0.624501</td>\n",
              "      <td>0.066084</td>\n",
              "      <td>0.717293</td>\n",
              "      <td>-0.165946</td>\n",
              "      <td>2.345865</td>\n",
              "      <td>-2.890083</td>\n",
              "      <td>1.109969</td>\n",
              "      <td>-0.121359</td>\n",
              "      <td>-2.261857</td>\n",
              "      <td>0.524980</td>\n",
              "      <td>0.247998</td>\n",
              "      <td>0.771679</td>\n",
              "      <td>0.909412</td>\n",
              "      <td>-0.689281</td>\n",
              "      <td>-0.327642</td>\n",
              "      <td>-0.139097</td>\n",
              "      <td>-0.055353</td>\n",
              "      <td>-0.059752</td>\n",
              "      <td>378.66</td>\n",
              "      <td>0</td>\n",
              "    </tr>\n",
              "    <tr>\n",
              "      <th>3</th>\n",
              "      <td>1.0</td>\n",
              "      <td>-0.966272</td>\n",
              "      <td>-0.185226</td>\n",
              "      <td>1.792993</td>\n",
              "      <td>-0.863291</td>\n",
              "      <td>-0.010309</td>\n",
              "      <td>1.247203</td>\n",
              "      <td>0.237609</td>\n",
              "      <td>0.377436</td>\n",
              "      <td>-1.387024</td>\n",
              "      <td>-0.054952</td>\n",
              "      <td>-0.226487</td>\n",
              "      <td>0.178228</td>\n",
              "      <td>0.507757</td>\n",
              "      <td>-0.287924</td>\n",
              "      <td>-0.631418</td>\n",
              "      <td>-1.059647</td>\n",
              "      <td>-0.684093</td>\n",
              "      <td>1.965775</td>\n",
              "      <td>-1.232622</td>\n",
              "      <td>-0.208038</td>\n",
              "      <td>-0.108300</td>\n",
              "      <td>0.005274</td>\n",
              "      <td>-0.190321</td>\n",
              "      <td>-1.175575</td>\n",
              "      <td>0.647376</td>\n",
              "      <td>-0.221929</td>\n",
              "      <td>0.062723</td>\n",
              "      <td>0.061458</td>\n",
              "      <td>123.50</td>\n",
              "      <td>0</td>\n",
              "    </tr>\n",
              "    <tr>\n",
              "      <th>4</th>\n",
              "      <td>2.0</td>\n",
              "      <td>-1.158233</td>\n",
              "      <td>0.877737</td>\n",
              "      <td>1.548718</td>\n",
              "      <td>0.403034</td>\n",
              "      <td>-0.407193</td>\n",
              "      <td>0.095921</td>\n",
              "      <td>0.592941</td>\n",
              "      <td>-0.270533</td>\n",
              "      <td>0.817739</td>\n",
              "      <td>0.753074</td>\n",
              "      <td>-0.822843</td>\n",
              "      <td>0.538196</td>\n",
              "      <td>1.345852</td>\n",
              "      <td>-1.119670</td>\n",
              "      <td>0.175121</td>\n",
              "      <td>-0.451449</td>\n",
              "      <td>-0.237033</td>\n",
              "      <td>-0.038195</td>\n",
              "      <td>0.803487</td>\n",
              "      <td>0.408542</td>\n",
              "      <td>-0.009431</td>\n",
              "      <td>0.798278</td>\n",
              "      <td>-0.137458</td>\n",
              "      <td>0.141267</td>\n",
              "      <td>-0.206010</td>\n",
              "      <td>0.502292</td>\n",
              "      <td>0.219422</td>\n",
              "      <td>0.215153</td>\n",
              "      <td>69.99</td>\n",
              "      <td>0</td>\n",
              "    </tr>\n",
              "    <tr>\n",
              "      <th>...</th>\n",
              "      <td>...</td>\n",
              "      <td>...</td>\n",
              "      <td>...</td>\n",
              "      <td>...</td>\n",
              "      <td>...</td>\n",
              "      <td>...</td>\n",
              "      <td>...</td>\n",
              "      <td>...</td>\n",
              "      <td>...</td>\n",
              "      <td>...</td>\n",
              "      <td>...</td>\n",
              "      <td>...</td>\n",
              "      <td>...</td>\n",
              "      <td>...</td>\n",
              "      <td>...</td>\n",
              "      <td>...</td>\n",
              "      <td>...</td>\n",
              "      <td>...</td>\n",
              "      <td>...</td>\n",
              "      <td>...</td>\n",
              "      <td>...</td>\n",
              "      <td>...</td>\n",
              "      <td>...</td>\n",
              "      <td>...</td>\n",
              "      <td>...</td>\n",
              "      <td>...</td>\n",
              "      <td>...</td>\n",
              "      <td>...</td>\n",
              "      <td>...</td>\n",
              "      <td>...</td>\n",
              "      <td>...</td>\n",
              "    </tr>\n",
              "    <tr>\n",
              "      <th>284802</th>\n",
              "      <td>172786.0</td>\n",
              "      <td>-11.881118</td>\n",
              "      <td>10.071785</td>\n",
              "      <td>-9.834783</td>\n",
              "      <td>-2.066656</td>\n",
              "      <td>-5.364473</td>\n",
              "      <td>-2.606837</td>\n",
              "      <td>-4.918215</td>\n",
              "      <td>7.305334</td>\n",
              "      <td>1.914428</td>\n",
              "      <td>4.356170</td>\n",
              "      <td>-1.593105</td>\n",
              "      <td>2.711941</td>\n",
              "      <td>-0.689256</td>\n",
              "      <td>4.626942</td>\n",
              "      <td>-0.924459</td>\n",
              "      <td>1.107641</td>\n",
              "      <td>1.991691</td>\n",
              "      <td>0.510632</td>\n",
              "      <td>-0.682920</td>\n",
              "      <td>1.475829</td>\n",
              "      <td>0.213454</td>\n",
              "      <td>0.111864</td>\n",
              "      <td>1.014480</td>\n",
              "      <td>-0.509348</td>\n",
              "      <td>1.436807</td>\n",
              "      <td>0.250034</td>\n",
              "      <td>0.943651</td>\n",
              "      <td>0.823731</td>\n",
              "      <td>0.77</td>\n",
              "      <td>0</td>\n",
              "    </tr>\n",
              "    <tr>\n",
              "      <th>284803</th>\n",
              "      <td>172787.0</td>\n",
              "      <td>-0.732789</td>\n",
              "      <td>-0.055080</td>\n",
              "      <td>2.035030</td>\n",
              "      <td>-0.738589</td>\n",
              "      <td>0.868229</td>\n",
              "      <td>1.058415</td>\n",
              "      <td>0.024330</td>\n",
              "      <td>0.294869</td>\n",
              "      <td>0.584800</td>\n",
              "      <td>-0.975926</td>\n",
              "      <td>-0.150189</td>\n",
              "      <td>0.915802</td>\n",
              "      <td>1.214756</td>\n",
              "      <td>-0.675143</td>\n",
              "      <td>1.164931</td>\n",
              "      <td>-0.711757</td>\n",
              "      <td>-0.025693</td>\n",
              "      <td>-1.221179</td>\n",
              "      <td>-1.545556</td>\n",
              "      <td>0.059616</td>\n",
              "      <td>0.214205</td>\n",
              "      <td>0.924384</td>\n",
              "      <td>0.012463</td>\n",
              "      <td>-1.016226</td>\n",
              "      <td>-0.606624</td>\n",
              "      <td>-0.395255</td>\n",
              "      <td>0.068472</td>\n",
              "      <td>-0.053527</td>\n",
              "      <td>24.79</td>\n",
              "      <td>0</td>\n",
              "    </tr>\n",
              "    <tr>\n",
              "      <th>284804</th>\n",
              "      <td>172788.0</td>\n",
              "      <td>1.919565</td>\n",
              "      <td>-0.301254</td>\n",
              "      <td>-3.249640</td>\n",
              "      <td>-0.557828</td>\n",
              "      <td>2.630515</td>\n",
              "      <td>3.031260</td>\n",
              "      <td>-0.296827</td>\n",
              "      <td>0.708417</td>\n",
              "      <td>0.432454</td>\n",
              "      <td>-0.484782</td>\n",
              "      <td>0.411614</td>\n",
              "      <td>0.063119</td>\n",
              "      <td>-0.183699</td>\n",
              "      <td>-0.510602</td>\n",
              "      <td>1.329284</td>\n",
              "      <td>0.140716</td>\n",
              "      <td>0.313502</td>\n",
              "      <td>0.395652</td>\n",
              "      <td>-0.577252</td>\n",
              "      <td>0.001396</td>\n",
              "      <td>0.232045</td>\n",
              "      <td>0.578229</td>\n",
              "      <td>-0.037501</td>\n",
              "      <td>0.640134</td>\n",
              "      <td>0.265745</td>\n",
              "      <td>-0.087371</td>\n",
              "      <td>0.004455</td>\n",
              "      <td>-0.026561</td>\n",
              "      <td>67.88</td>\n",
              "      <td>0</td>\n",
              "    </tr>\n",
              "    <tr>\n",
              "      <th>284805</th>\n",
              "      <td>172788.0</td>\n",
              "      <td>-0.240440</td>\n",
              "      <td>0.530483</td>\n",
              "      <td>0.702510</td>\n",
              "      <td>0.689799</td>\n",
              "      <td>-0.377961</td>\n",
              "      <td>0.623708</td>\n",
              "      <td>-0.686180</td>\n",
              "      <td>0.679145</td>\n",
              "      <td>0.392087</td>\n",
              "      <td>-0.399126</td>\n",
              "      <td>-1.933849</td>\n",
              "      <td>-0.962886</td>\n",
              "      <td>-1.042082</td>\n",
              "      <td>0.449624</td>\n",
              "      <td>1.962563</td>\n",
              "      <td>-0.608577</td>\n",
              "      <td>0.509928</td>\n",
              "      <td>1.113981</td>\n",
              "      <td>2.897849</td>\n",
              "      <td>0.127434</td>\n",
              "      <td>0.265245</td>\n",
              "      <td>0.800049</td>\n",
              "      <td>-0.163298</td>\n",
              "      <td>0.123205</td>\n",
              "      <td>-0.569159</td>\n",
              "      <td>0.546668</td>\n",
              "      <td>0.108821</td>\n",
              "      <td>0.104533</td>\n",
              "      <td>10.00</td>\n",
              "      <td>0</td>\n",
              "    </tr>\n",
              "    <tr>\n",
              "      <th>284806</th>\n",
              "      <td>172792.0</td>\n",
              "      <td>-0.533413</td>\n",
              "      <td>-0.189733</td>\n",
              "      <td>0.703337</td>\n",
              "      <td>-0.506271</td>\n",
              "      <td>-0.012546</td>\n",
              "      <td>-0.649617</td>\n",
              "      <td>1.577006</td>\n",
              "      <td>-0.414650</td>\n",
              "      <td>0.486180</td>\n",
              "      <td>-0.915427</td>\n",
              "      <td>-1.040458</td>\n",
              "      <td>-0.031513</td>\n",
              "      <td>-0.188093</td>\n",
              "      <td>-0.084316</td>\n",
              "      <td>0.041333</td>\n",
              "      <td>-0.302620</td>\n",
              "      <td>-0.660377</td>\n",
              "      <td>0.167430</td>\n",
              "      <td>-0.256117</td>\n",
              "      <td>0.382948</td>\n",
              "      <td>0.261057</td>\n",
              "      <td>0.643078</td>\n",
              "      <td>0.376777</td>\n",
              "      <td>0.008797</td>\n",
              "      <td>-0.473649</td>\n",
              "      <td>-0.818267</td>\n",
              "      <td>-0.002415</td>\n",
              "      <td>0.013649</td>\n",
              "      <td>217.00</td>\n",
              "      <td>0</td>\n",
              "    </tr>\n",
              "  </tbody>\n",
              "</table>\n",
              "<p>284807 rows × 31 columns</p>\n",
              "</div>"
            ],
            "text/plain": [
              "            Time         V1         V2  ...       V28  Amount  Class\n",
              "0            0.0  -1.359807  -0.072781  ... -0.021053  149.62      0\n",
              "1            0.0   1.191857   0.266151  ...  0.014724    2.69      0\n",
              "2            1.0  -1.358354  -1.340163  ... -0.059752  378.66      0\n",
              "3            1.0  -0.966272  -0.185226  ...  0.061458  123.50      0\n",
              "4            2.0  -1.158233   0.877737  ...  0.215153   69.99      0\n",
              "...          ...        ...        ...  ...       ...     ...    ...\n",
              "284802  172786.0 -11.881118  10.071785  ...  0.823731    0.77      0\n",
              "284803  172787.0  -0.732789  -0.055080  ... -0.053527   24.79      0\n",
              "284804  172788.0   1.919565  -0.301254  ... -0.026561   67.88      0\n",
              "284805  172788.0  -0.240440   0.530483  ...  0.104533   10.00      0\n",
              "284806  172792.0  -0.533413  -0.189733  ...  0.013649  217.00      0\n",
              "\n",
              "[284807 rows x 31 columns]"
            ]
          },
          "metadata": {
            "tags": []
          },
          "execution_count": 7
        }
      ]
    },
    {
      "cell_type": "code",
      "metadata": {
        "colab": {
          "base_uri": "https://localhost:8080/"
        },
        "id": "-2BsZzThNDF8",
        "outputId": "9d857be5-26b8-4969-b8b3-60c0bbf479d9"
      },
      "source": [
        "data.info()"
      ],
      "execution_count": 8,
      "outputs": [
        {
          "output_type": "stream",
          "text": [
            "<class 'pandas.core.frame.DataFrame'>\n",
            "RangeIndex: 284807 entries, 0 to 284806\n",
            "Data columns (total 31 columns):\n",
            " #   Column  Non-Null Count   Dtype  \n",
            "---  ------  --------------   -----  \n",
            " 0   Time    284807 non-null  float64\n",
            " 1   V1      284807 non-null  float64\n",
            " 2   V2      284807 non-null  float64\n",
            " 3   V3      284807 non-null  float64\n",
            " 4   V4      284807 non-null  float64\n",
            " 5   V5      284807 non-null  float64\n",
            " 6   V6      284807 non-null  float64\n",
            " 7   V7      284807 non-null  float64\n",
            " 8   V8      284807 non-null  float64\n",
            " 9   V9      284807 non-null  float64\n",
            " 10  V10     284807 non-null  float64\n",
            " 11  V11     284807 non-null  float64\n",
            " 12  V12     284807 non-null  float64\n",
            " 13  V13     284807 non-null  float64\n",
            " 14  V14     284807 non-null  float64\n",
            " 15  V15     284807 non-null  float64\n",
            " 16  V16     284807 non-null  float64\n",
            " 17  V17     284807 non-null  float64\n",
            " 18  V18     284807 non-null  float64\n",
            " 19  V19     284807 non-null  float64\n",
            " 20  V20     284807 non-null  float64\n",
            " 21  V21     284807 non-null  float64\n",
            " 22  V22     284807 non-null  float64\n",
            " 23  V23     284807 non-null  float64\n",
            " 24  V24     284807 non-null  float64\n",
            " 25  V25     284807 non-null  float64\n",
            " 26  V26     284807 non-null  float64\n",
            " 27  V27     284807 non-null  float64\n",
            " 28  V28     284807 non-null  float64\n",
            " 29  Amount  284807 non-null  float64\n",
            " 30  Class   284807 non-null  int64  \n",
            "dtypes: float64(30), int64(1)\n",
            "memory usage: 67.4 MB\n"
          ],
          "name": "stdout"
        }
      ]
    },
    {
      "cell_type": "code",
      "metadata": {
        "colab": {
          "base_uri": "https://localhost:8080/",
          "height": 317
        },
        "id": "4RgV9Pg7RdRS",
        "outputId": "be735a57-8476-4763-b4a3-443e0fc746cc"
      },
      "source": [
        "data.describe()"
      ],
      "execution_count": 9,
      "outputs": [
        {
          "output_type": "execute_result",
          "data": {
            "text/html": [
              "<div>\n",
              "<style scoped>\n",
              "    .dataframe tbody tr th:only-of-type {\n",
              "        vertical-align: middle;\n",
              "    }\n",
              "\n",
              "    .dataframe tbody tr th {\n",
              "        vertical-align: top;\n",
              "    }\n",
              "\n",
              "    .dataframe thead th {\n",
              "        text-align: right;\n",
              "    }\n",
              "</style>\n",
              "<table border=\"1\" class=\"dataframe\">\n",
              "  <thead>\n",
              "    <tr style=\"text-align: right;\">\n",
              "      <th></th>\n",
              "      <th>Time</th>\n",
              "      <th>V1</th>\n",
              "      <th>V2</th>\n",
              "      <th>V3</th>\n",
              "      <th>V4</th>\n",
              "      <th>V5</th>\n",
              "      <th>V6</th>\n",
              "      <th>V7</th>\n",
              "      <th>V8</th>\n",
              "      <th>V9</th>\n",
              "      <th>V10</th>\n",
              "      <th>V11</th>\n",
              "      <th>V12</th>\n",
              "      <th>V13</th>\n",
              "      <th>V14</th>\n",
              "      <th>V15</th>\n",
              "      <th>V16</th>\n",
              "      <th>V17</th>\n",
              "      <th>V18</th>\n",
              "      <th>V19</th>\n",
              "      <th>V20</th>\n",
              "      <th>V21</th>\n",
              "      <th>V22</th>\n",
              "      <th>V23</th>\n",
              "      <th>V24</th>\n",
              "      <th>V25</th>\n",
              "      <th>V26</th>\n",
              "      <th>V27</th>\n",
              "      <th>V28</th>\n",
              "      <th>Amount</th>\n",
              "      <th>Class</th>\n",
              "    </tr>\n",
              "  </thead>\n",
              "  <tbody>\n",
              "    <tr>\n",
              "      <th>count</th>\n",
              "      <td>284807.000000</td>\n",
              "      <td>2.848070e+05</td>\n",
              "      <td>2.848070e+05</td>\n",
              "      <td>2.848070e+05</td>\n",
              "      <td>2.848070e+05</td>\n",
              "      <td>2.848070e+05</td>\n",
              "      <td>2.848070e+05</td>\n",
              "      <td>2.848070e+05</td>\n",
              "      <td>2.848070e+05</td>\n",
              "      <td>2.848070e+05</td>\n",
              "      <td>2.848070e+05</td>\n",
              "      <td>2.848070e+05</td>\n",
              "      <td>2.848070e+05</td>\n",
              "      <td>2.848070e+05</td>\n",
              "      <td>2.848070e+05</td>\n",
              "      <td>2.848070e+05</td>\n",
              "      <td>2.848070e+05</td>\n",
              "      <td>2.848070e+05</td>\n",
              "      <td>2.848070e+05</td>\n",
              "      <td>2.848070e+05</td>\n",
              "      <td>2.848070e+05</td>\n",
              "      <td>2.848070e+05</td>\n",
              "      <td>2.848070e+05</td>\n",
              "      <td>2.848070e+05</td>\n",
              "      <td>2.848070e+05</td>\n",
              "      <td>2.848070e+05</td>\n",
              "      <td>2.848070e+05</td>\n",
              "      <td>2.848070e+05</td>\n",
              "      <td>2.848070e+05</td>\n",
              "      <td>284807.000000</td>\n",
              "      <td>284807.000000</td>\n",
              "    </tr>\n",
              "    <tr>\n",
              "      <th>mean</th>\n",
              "      <td>94813.859575</td>\n",
              "      <td>3.919560e-15</td>\n",
              "      <td>5.688174e-16</td>\n",
              "      <td>-8.769071e-15</td>\n",
              "      <td>2.782312e-15</td>\n",
              "      <td>-1.552563e-15</td>\n",
              "      <td>2.010663e-15</td>\n",
              "      <td>-1.694249e-15</td>\n",
              "      <td>-1.927028e-16</td>\n",
              "      <td>-3.137024e-15</td>\n",
              "      <td>1.768627e-15</td>\n",
              "      <td>9.170318e-16</td>\n",
              "      <td>-1.810658e-15</td>\n",
              "      <td>1.693438e-15</td>\n",
              "      <td>1.479045e-15</td>\n",
              "      <td>3.482336e-15</td>\n",
              "      <td>1.392007e-15</td>\n",
              "      <td>-7.528491e-16</td>\n",
              "      <td>4.328772e-16</td>\n",
              "      <td>9.049732e-16</td>\n",
              "      <td>5.085503e-16</td>\n",
              "      <td>1.537294e-16</td>\n",
              "      <td>7.959909e-16</td>\n",
              "      <td>5.367590e-16</td>\n",
              "      <td>4.458112e-15</td>\n",
              "      <td>1.453003e-15</td>\n",
              "      <td>1.699104e-15</td>\n",
              "      <td>-3.660161e-16</td>\n",
              "      <td>-1.206049e-16</td>\n",
              "      <td>88.349619</td>\n",
              "      <td>0.001727</td>\n",
              "    </tr>\n",
              "    <tr>\n",
              "      <th>std</th>\n",
              "      <td>47488.145955</td>\n",
              "      <td>1.958696e+00</td>\n",
              "      <td>1.651309e+00</td>\n",
              "      <td>1.516255e+00</td>\n",
              "      <td>1.415869e+00</td>\n",
              "      <td>1.380247e+00</td>\n",
              "      <td>1.332271e+00</td>\n",
              "      <td>1.237094e+00</td>\n",
              "      <td>1.194353e+00</td>\n",
              "      <td>1.098632e+00</td>\n",
              "      <td>1.088850e+00</td>\n",
              "      <td>1.020713e+00</td>\n",
              "      <td>9.992014e-01</td>\n",
              "      <td>9.952742e-01</td>\n",
              "      <td>9.585956e-01</td>\n",
              "      <td>9.153160e-01</td>\n",
              "      <td>8.762529e-01</td>\n",
              "      <td>8.493371e-01</td>\n",
              "      <td>8.381762e-01</td>\n",
              "      <td>8.140405e-01</td>\n",
              "      <td>7.709250e-01</td>\n",
              "      <td>7.345240e-01</td>\n",
              "      <td>7.257016e-01</td>\n",
              "      <td>6.244603e-01</td>\n",
              "      <td>6.056471e-01</td>\n",
              "      <td>5.212781e-01</td>\n",
              "      <td>4.822270e-01</td>\n",
              "      <td>4.036325e-01</td>\n",
              "      <td>3.300833e-01</td>\n",
              "      <td>250.120109</td>\n",
              "      <td>0.041527</td>\n",
              "    </tr>\n",
              "    <tr>\n",
              "      <th>min</th>\n",
              "      <td>0.000000</td>\n",
              "      <td>-5.640751e+01</td>\n",
              "      <td>-7.271573e+01</td>\n",
              "      <td>-4.832559e+01</td>\n",
              "      <td>-5.683171e+00</td>\n",
              "      <td>-1.137433e+02</td>\n",
              "      <td>-2.616051e+01</td>\n",
              "      <td>-4.355724e+01</td>\n",
              "      <td>-7.321672e+01</td>\n",
              "      <td>-1.343407e+01</td>\n",
              "      <td>-2.458826e+01</td>\n",
              "      <td>-4.797473e+00</td>\n",
              "      <td>-1.868371e+01</td>\n",
              "      <td>-5.791881e+00</td>\n",
              "      <td>-1.921433e+01</td>\n",
              "      <td>-4.498945e+00</td>\n",
              "      <td>-1.412985e+01</td>\n",
              "      <td>-2.516280e+01</td>\n",
              "      <td>-9.498746e+00</td>\n",
              "      <td>-7.213527e+00</td>\n",
              "      <td>-5.449772e+01</td>\n",
              "      <td>-3.483038e+01</td>\n",
              "      <td>-1.093314e+01</td>\n",
              "      <td>-4.480774e+01</td>\n",
              "      <td>-2.836627e+00</td>\n",
              "      <td>-1.029540e+01</td>\n",
              "      <td>-2.604551e+00</td>\n",
              "      <td>-2.256568e+01</td>\n",
              "      <td>-1.543008e+01</td>\n",
              "      <td>0.000000</td>\n",
              "      <td>0.000000</td>\n",
              "    </tr>\n",
              "    <tr>\n",
              "      <th>25%</th>\n",
              "      <td>54201.500000</td>\n",
              "      <td>-9.203734e-01</td>\n",
              "      <td>-5.985499e-01</td>\n",
              "      <td>-8.903648e-01</td>\n",
              "      <td>-8.486401e-01</td>\n",
              "      <td>-6.915971e-01</td>\n",
              "      <td>-7.682956e-01</td>\n",
              "      <td>-5.540759e-01</td>\n",
              "      <td>-2.086297e-01</td>\n",
              "      <td>-6.430976e-01</td>\n",
              "      <td>-5.354257e-01</td>\n",
              "      <td>-7.624942e-01</td>\n",
              "      <td>-4.055715e-01</td>\n",
              "      <td>-6.485393e-01</td>\n",
              "      <td>-4.255740e-01</td>\n",
              "      <td>-5.828843e-01</td>\n",
              "      <td>-4.680368e-01</td>\n",
              "      <td>-4.837483e-01</td>\n",
              "      <td>-4.988498e-01</td>\n",
              "      <td>-4.562989e-01</td>\n",
              "      <td>-2.117214e-01</td>\n",
              "      <td>-2.283949e-01</td>\n",
              "      <td>-5.423504e-01</td>\n",
              "      <td>-1.618463e-01</td>\n",
              "      <td>-3.545861e-01</td>\n",
              "      <td>-3.171451e-01</td>\n",
              "      <td>-3.269839e-01</td>\n",
              "      <td>-7.083953e-02</td>\n",
              "      <td>-5.295979e-02</td>\n",
              "      <td>5.600000</td>\n",
              "      <td>0.000000</td>\n",
              "    </tr>\n",
              "    <tr>\n",
              "      <th>50%</th>\n",
              "      <td>84692.000000</td>\n",
              "      <td>1.810880e-02</td>\n",
              "      <td>6.548556e-02</td>\n",
              "      <td>1.798463e-01</td>\n",
              "      <td>-1.984653e-02</td>\n",
              "      <td>-5.433583e-02</td>\n",
              "      <td>-2.741871e-01</td>\n",
              "      <td>4.010308e-02</td>\n",
              "      <td>2.235804e-02</td>\n",
              "      <td>-5.142873e-02</td>\n",
              "      <td>-9.291738e-02</td>\n",
              "      <td>-3.275735e-02</td>\n",
              "      <td>1.400326e-01</td>\n",
              "      <td>-1.356806e-02</td>\n",
              "      <td>5.060132e-02</td>\n",
              "      <td>4.807155e-02</td>\n",
              "      <td>6.641332e-02</td>\n",
              "      <td>-6.567575e-02</td>\n",
              "      <td>-3.636312e-03</td>\n",
              "      <td>3.734823e-03</td>\n",
              "      <td>-6.248109e-02</td>\n",
              "      <td>-2.945017e-02</td>\n",
              "      <td>6.781943e-03</td>\n",
              "      <td>-1.119293e-02</td>\n",
              "      <td>4.097606e-02</td>\n",
              "      <td>1.659350e-02</td>\n",
              "      <td>-5.213911e-02</td>\n",
              "      <td>1.342146e-03</td>\n",
              "      <td>1.124383e-02</td>\n",
              "      <td>22.000000</td>\n",
              "      <td>0.000000</td>\n",
              "    </tr>\n",
              "    <tr>\n",
              "      <th>75%</th>\n",
              "      <td>139320.500000</td>\n",
              "      <td>1.315642e+00</td>\n",
              "      <td>8.037239e-01</td>\n",
              "      <td>1.027196e+00</td>\n",
              "      <td>7.433413e-01</td>\n",
              "      <td>6.119264e-01</td>\n",
              "      <td>3.985649e-01</td>\n",
              "      <td>5.704361e-01</td>\n",
              "      <td>3.273459e-01</td>\n",
              "      <td>5.971390e-01</td>\n",
              "      <td>4.539234e-01</td>\n",
              "      <td>7.395934e-01</td>\n",
              "      <td>6.182380e-01</td>\n",
              "      <td>6.625050e-01</td>\n",
              "      <td>4.931498e-01</td>\n",
              "      <td>6.488208e-01</td>\n",
              "      <td>5.232963e-01</td>\n",
              "      <td>3.996750e-01</td>\n",
              "      <td>5.008067e-01</td>\n",
              "      <td>4.589494e-01</td>\n",
              "      <td>1.330408e-01</td>\n",
              "      <td>1.863772e-01</td>\n",
              "      <td>5.285536e-01</td>\n",
              "      <td>1.476421e-01</td>\n",
              "      <td>4.395266e-01</td>\n",
              "      <td>3.507156e-01</td>\n",
              "      <td>2.409522e-01</td>\n",
              "      <td>9.104512e-02</td>\n",
              "      <td>7.827995e-02</td>\n",
              "      <td>77.165000</td>\n",
              "      <td>0.000000</td>\n",
              "    </tr>\n",
              "    <tr>\n",
              "      <th>max</th>\n",
              "      <td>172792.000000</td>\n",
              "      <td>2.454930e+00</td>\n",
              "      <td>2.205773e+01</td>\n",
              "      <td>9.382558e+00</td>\n",
              "      <td>1.687534e+01</td>\n",
              "      <td>3.480167e+01</td>\n",
              "      <td>7.330163e+01</td>\n",
              "      <td>1.205895e+02</td>\n",
              "      <td>2.000721e+01</td>\n",
              "      <td>1.559499e+01</td>\n",
              "      <td>2.374514e+01</td>\n",
              "      <td>1.201891e+01</td>\n",
              "      <td>7.848392e+00</td>\n",
              "      <td>7.126883e+00</td>\n",
              "      <td>1.052677e+01</td>\n",
              "      <td>8.877742e+00</td>\n",
              "      <td>1.731511e+01</td>\n",
              "      <td>9.253526e+00</td>\n",
              "      <td>5.041069e+00</td>\n",
              "      <td>5.591971e+00</td>\n",
              "      <td>3.942090e+01</td>\n",
              "      <td>2.720284e+01</td>\n",
              "      <td>1.050309e+01</td>\n",
              "      <td>2.252841e+01</td>\n",
              "      <td>4.584549e+00</td>\n",
              "      <td>7.519589e+00</td>\n",
              "      <td>3.517346e+00</td>\n",
              "      <td>3.161220e+01</td>\n",
              "      <td>3.384781e+01</td>\n",
              "      <td>25691.160000</td>\n",
              "      <td>1.000000</td>\n",
              "    </tr>\n",
              "  </tbody>\n",
              "</table>\n",
              "</div>"
            ],
            "text/plain": [
              "                Time            V1  ...         Amount          Class\n",
              "count  284807.000000  2.848070e+05  ...  284807.000000  284807.000000\n",
              "mean    94813.859575  3.919560e-15  ...      88.349619       0.001727\n",
              "std     47488.145955  1.958696e+00  ...     250.120109       0.041527\n",
              "min         0.000000 -5.640751e+01  ...       0.000000       0.000000\n",
              "25%     54201.500000 -9.203734e-01  ...       5.600000       0.000000\n",
              "50%     84692.000000  1.810880e-02  ...      22.000000       0.000000\n",
              "75%    139320.500000  1.315642e+00  ...      77.165000       0.000000\n",
              "max    172792.000000  2.454930e+00  ...   25691.160000       1.000000\n",
              "\n",
              "[8 rows x 31 columns]"
            ]
          },
          "metadata": {
            "tags": []
          },
          "execution_count": 9
        }
      ]
    },
    {
      "cell_type": "code",
      "metadata": {
        "colab": {
          "base_uri": "https://localhost:8080/"
        },
        "id": "yib7Mm-nRg7S",
        "outputId": "9eb25f56-74a4-4083-aa4f-7ec8f90b52cb"
      },
      "source": [
        "#data.isnull()\n",
        "#data.isnull().sum()\n",
        "#data.isnull().sum().any()\n",
        "data.isnull().sum().max()"
      ],
      "execution_count": 10,
      "outputs": [
        {
          "output_type": "execute_result",
          "data": {
            "text/plain": [
              "0"
            ]
          },
          "metadata": {
            "tags": []
          },
          "execution_count": 10
        }
      ]
    },
    {
      "cell_type": "code",
      "metadata": {
        "colab": {
          "base_uri": "https://localhost:8080/"
        },
        "id": "bvkNTIKWTddc",
        "outputId": "e0c755a9-71b8-4824-ee51-53b71533fb2e"
      },
      "source": [
        "data.columns"
      ],
      "execution_count": 11,
      "outputs": [
        {
          "output_type": "execute_result",
          "data": {
            "text/plain": [
              "Index(['Time', 'V1', 'V2', 'V3', 'V4', 'V5', 'V6', 'V7', 'V8', 'V9', 'V10',\n",
              "       'V11', 'V12', 'V13', 'V14', 'V15', 'V16', 'V17', 'V18', 'V19', 'V20',\n",
              "       'V21', 'V22', 'V23', 'V24', 'V25', 'V26', 'V27', 'V28', 'Amount',\n",
              "       'Class'],\n",
              "      dtype='object')"
            ]
          },
          "metadata": {
            "tags": []
          },
          "execution_count": 11
        }
      ]
    },
    {
      "cell_type": "markdown",
      "metadata": {
        "id": "VNAauG32VOkK"
      },
      "source": [
        "# Data Balance Check\n",
        "\n",
        "print( 'Fraud Percentage: {}'.format(round( (df['Class'].value_counts()[1]/len(df))*100, 2) ) )\n",
        "\n",
        "print( 'Non Fraud Percentage: {}'.format(round( (df['Class'].value_counts()[0]/len(df))*100, 2) ) ) \n"
      ]
    },
    {
      "cell_type": "code",
      "metadata": {
        "colab": {
          "base_uri": "https://localhost:8080/"
        },
        "id": "tRn6rrkyUfdX",
        "outputId": "c1a8221c-f032-4cd6-ff8e-2098aa0fca5d"
      },
      "source": [
        "# The classes are heavily skewed we need to solve this issue later.\n",
        "print('No Frauds', round(data['Class'].value_counts()[0]/len(data) * 100,2), '% of the dataset')\n",
        "print('Frauds', round(data['Class'].value_counts()[1]/len(data) * 100,2), '% of the dataset')"
      ],
      "execution_count": 12,
      "outputs": [
        {
          "output_type": "stream",
          "text": [
            "No Frauds 99.83 % of the dataset\n",
            "Frauds 0.17 % of the dataset\n"
          ],
          "name": "stdout"
        }
      ]
    },
    {
      "cell_type": "markdown",
      "metadata": {
        "id": "sTLWYvMfViuL"
      },
      "source": [
        "**Note: Notice how imbalanced is our original dataset! Most of the transactions are non-fraud. If we use this dataframe as the base for our predictive models and analysis we might get a lot of errors and our algorithms will probably overfit since it will \"assume\" that most transactions are not fraud. But we don't want our model to assume, we want our model to detect patterns that give signs of fraud!**"
      ]
    },
    {
      "cell_type": "code",
      "metadata": {
        "colab": {
          "base_uri": "https://localhost:8080/",
          "height": 393
        },
        "id": "R4yf9lTgVkWf",
        "outputId": "654c45ac-0018-41b0-d269-056219fffd15"
      },
      "source": [
        "colors = [\"#0101DF\", \"#DF0101\"]\n",
        "\n",
        "sns.countplot('Class', data=data, palette=colors)\n",
        "plt.title('Class Distributions \\n (0: No Fraud & 1: Fraud)', fontsize=20)"
      ],
      "execution_count": 13,
      "outputs": [
        {
          "output_type": "stream",
          "text": [
            "/usr/local/lib/python3.7/dist-packages/seaborn/_decorators.py:43: FutureWarning: Pass the following variable as a keyword arg: x. From version 0.12, the only valid positional argument will be `data`, and passing other arguments without an explicit keyword will result in an error or misinterpretation.\n",
            "  FutureWarning\n"
          ],
          "name": "stderr"
        },
        {
          "output_type": "execute_result",
          "data": {
            "text/plain": [
              "Text(0.5, 1.0, 'Class Distributions \\n (0: No Fraud & 1: Fraud)')"
            ]
          },
          "metadata": {
            "tags": []
          },
          "execution_count": 13
        },
        {
          "output_type": "display_data",
          "data": {
            "image/png": "[encoded data removed]",
            "text/plain": [
              "<Figure size 432x288 with 1 Axes>"
            ]
          },
          "metadata": {
            "tags": [],
            "needs_background": "light"
          }
        }
      ]
    },
    {
      "cell_type": "markdown",
      "metadata": {
        "id": "mzcPcspBWUCn"
      },
      "source": [
        "Distributions: By seeing the distributions we can have an idea how skewed are these features, we can also see further distributions of the other features. There are techniques that can help the distributions be less skewed which will be implemented in this notebook in the future"
      ]
    },
    {
      "cell_type": "markdown",
      "metadata": {
        "id": "2HccryzHZE26"
      },
      "source": [
        "## Now Splitting The data into target and other input"
      ]
    },
    {
      "cell_type": "code",
      "metadata": {
        "colab": {
          "base_uri": "https://localhost:8080/"
        },
        "id": "In5i6YRQV99C",
        "outputId": "88012c0a-948d-48d9-f5d4-7cb641f75f3b"
      },
      "source": [
        "y = data['Class']\n",
        "y"
      ],
      "execution_count": 14,
      "outputs": [
        {
          "output_type": "execute_result",
          "data": {
            "text/plain": [
              "0         0\n",
              "1         0\n",
              "2         0\n",
              "3         0\n",
              "4         0\n",
              "         ..\n",
              "284802    0\n",
              "284803    0\n",
              "284804    0\n",
              "284805    0\n",
              "284806    0\n",
              "Name: Class, Length: 284807, dtype: int64"
            ]
          },
          "metadata": {
            "tags": []
          },
          "execution_count": 14
        }
      ]
    },
    {
      "cell_type": "code",
      "metadata": {
        "id": "AgLaSDQLZSNq"
      },
      "source": [
        "data.drop(columns='Class', inplace=True)"
      ],
      "execution_count": 15,
      "outputs": []
    },
    {
      "cell_type": "code",
      "metadata": {
        "colab": {
          "base_uri": "https://localhost:8080/",
          "height": 456
        },
        "id": "eaiVvBP1Zql9",
        "outputId": "f172bd11-ea49-469d-fcaa-f87cb0fd6cf7"
      },
      "source": [
        "print(data.shape)\n",
        "data"
      ],
      "execution_count": 16,
      "outputs": [
        {
          "output_type": "stream",
          "text": [
            "(284807, 30)\n"
          ],
          "name": "stdout"
        },
        {
          "output_type": "execute_result",
          "data": {
            "text/html": [
              "<div>\n",
              "<style scoped>\n",
              "    .dataframe tbody tr th:only-of-type {\n",
              "        vertical-align: middle;\n",
              "    }\n",
              "\n",
              "    .dataframe tbody tr th {\n",
              "        vertical-align: top;\n",
              "    }\n",
              "\n",
              "    .dataframe thead th {\n",
              "        text-align: right;\n",
              "    }\n",
              "</style>\n",
              "<table border=\"1\" class=\"dataframe\">\n",
              "  <thead>\n",
              "    <tr style=\"text-align: right;\">\n",
              "      <th></th>\n",
              "      <th>Time</th>\n",
              "      <th>V1</th>\n",
              "      <th>V2</th>\n",
              "      <th>V3</th>\n",
              "      <th>V4</th>\n",
              "      <th>V5</th>\n",
              "      <th>V6</th>\n",
              "      <th>V7</th>\n",
              "      <th>V8</th>\n",
              "      <th>V9</th>\n",
              "      <th>V10</th>\n",
              "      <th>V11</th>\n",
              "      <th>V12</th>\n",
              "      <th>V13</th>\n",
              "      <th>V14</th>\n",
              "      <th>V15</th>\n",
              "      <th>V16</th>\n",
              "      <th>V17</th>\n",
              "      <th>V18</th>\n",
              "      <th>V19</th>\n",
              "      <th>V20</th>\n",
              "      <th>V21</th>\n",
              "      <th>V22</th>\n",
              "      <th>V23</th>\n",
              "      <th>V24</th>\n",
              "      <th>V25</th>\n",
              "      <th>V26</th>\n",
              "      <th>V27</th>\n",
              "      <th>V28</th>\n",
              "      <th>Amount</th>\n",
              "    </tr>\n",
              "  </thead>\n",
              "  <tbody>\n",
              "    <tr>\n",
              "      <th>0</th>\n",
              "      <td>0.0</td>\n",
              "      <td>-1.359807</td>\n",
              "      <td>-0.072781</td>\n",
              "      <td>2.536347</td>\n",
              "      <td>1.378155</td>\n",
              "      <td>-0.338321</td>\n",
              "      <td>0.462388</td>\n",
              "      <td>0.239599</td>\n",
              "      <td>0.098698</td>\n",
              "      <td>0.363787</td>\n",
              "      <td>0.090794</td>\n",
              "      <td>-0.551600</td>\n",
              "      <td>-0.617801</td>\n",
              "      <td>-0.991390</td>\n",
              "      <td>-0.311169</td>\n",
              "      <td>1.468177</td>\n",
              "      <td>-0.470401</td>\n",
              "      <td>0.207971</td>\n",
              "      <td>0.025791</td>\n",
              "      <td>0.403993</td>\n",
              "      <td>0.251412</td>\n",
              "      <td>-0.018307</td>\n",
              "      <td>0.277838</td>\n",
              "      <td>-0.110474</td>\n",
              "      <td>0.066928</td>\n",
              "      <td>0.128539</td>\n",
              "      <td>-0.189115</td>\n",
              "      <td>0.133558</td>\n",
              "      <td>-0.021053</td>\n",
              "      <td>149.62</td>\n",
              "    </tr>\n",
              "    <tr>\n",
              "      <th>1</th>\n",
              "      <td>0.0</td>\n",
              "      <td>1.191857</td>\n",
              "      <td>0.266151</td>\n",
              "      <td>0.166480</td>\n",
              "      <td>0.448154</td>\n",
              "      <td>0.060018</td>\n",
              "      <td>-0.082361</td>\n",
              "      <td>-0.078803</td>\n",
              "      <td>0.085102</td>\n",
              "      <td>-0.255425</td>\n",
              "      <td>-0.166974</td>\n",
              "      <td>1.612727</td>\n",
              "      <td>1.065235</td>\n",
              "      <td>0.489095</td>\n",
              "      <td>-0.143772</td>\n",
              "      <td>0.635558</td>\n",
              "      <td>0.463917</td>\n",
              "      <td>-0.114805</td>\n",
              "      <td>-0.183361</td>\n",
              "      <td>-0.145783</td>\n",
              "      <td>-0.069083</td>\n",
              "      <td>-0.225775</td>\n",
              "      <td>-0.638672</td>\n",
              "      <td>0.101288</td>\n",
              "      <td>-0.339846</td>\n",
              "      <td>0.167170</td>\n",
              "      <td>0.125895</td>\n",
              "      <td>-0.008983</td>\n",
              "      <td>0.014724</td>\n",
              "      <td>2.69</td>\n",
              "    </tr>\n",
              "    <tr>\n",
              "      <th>2</th>\n",
              "      <td>1.0</td>\n",
              "      <td>-1.358354</td>\n",
              "      <td>-1.340163</td>\n",
              "      <td>1.773209</td>\n",
              "      <td>0.379780</td>\n",
              "      <td>-0.503198</td>\n",
              "      <td>1.800499</td>\n",
              "      <td>0.791461</td>\n",
              "      <td>0.247676</td>\n",
              "      <td>-1.514654</td>\n",
              "      <td>0.207643</td>\n",
              "      <td>0.624501</td>\n",
              "      <td>0.066084</td>\n",
              "      <td>0.717293</td>\n",
              "      <td>-0.165946</td>\n",
              "      <td>2.345865</td>\n",
              "      <td>-2.890083</td>\n",
              "      <td>1.109969</td>\n",
              "      <td>-0.121359</td>\n",
              "      <td>-2.261857</td>\n",
              "      <td>0.524980</td>\n",
              "      <td>0.247998</td>\n",
              "      <td>0.771679</td>\n",
              "      <td>0.909412</td>\n",
              "      <td>-0.689281</td>\n",
              "      <td>-0.327642</td>\n",
              "      <td>-0.139097</td>\n",
              "      <td>-0.055353</td>\n",
              "      <td>-0.059752</td>\n",
              "      <td>378.66</td>\n",
              "    </tr>\n",
              "    <tr>\n",
              "      <th>3</th>\n",
              "      <td>1.0</td>\n",
              "      <td>-0.966272</td>\n",
              "      <td>-0.185226</td>\n",
              "      <td>1.792993</td>\n",
              "      <td>-0.863291</td>\n",
              "      <td>-0.010309</td>\n",
              "      <td>1.247203</td>\n",
              "      <td>0.237609</td>\n",
              "      <td>0.377436</td>\n",
              "      <td>-1.387024</td>\n",
              "      <td>-0.054952</td>\n",
              "      <td>-0.226487</td>\n",
              "      <td>0.178228</td>\n",
              "      <td>0.507757</td>\n",
              "      <td>-0.287924</td>\n",
              "      <td>-0.631418</td>\n",
              "      <td>-1.059647</td>\n",
              "      <td>-0.684093</td>\n",
              "      <td>1.965775</td>\n",
              "      <td>-1.232622</td>\n",
              "      <td>-0.208038</td>\n",
              "      <td>-0.108300</td>\n",
              "      <td>0.005274</td>\n",
              "      <td>-0.190321</td>\n",
              "      <td>-1.175575</td>\n",
              "      <td>0.647376</td>\n",
              "      <td>-0.221929</td>\n",
              "      <td>0.062723</td>\n",
              "      <td>0.061458</td>\n",
              "      <td>123.50</td>\n",
              "    </tr>\n",
              "    <tr>\n",
              "      <th>4</th>\n",
              "      <td>2.0</td>\n",
              "      <td>-1.158233</td>\n",
              "      <td>0.877737</td>\n",
              "      <td>1.548718</td>\n",
              "      <td>0.403034</td>\n",
              "      <td>-0.407193</td>\n",
              "      <td>0.095921</td>\n",
              "      <td>0.592941</td>\n",
              "      <td>-0.270533</td>\n",
              "      <td>0.817739</td>\n",
              "      <td>0.753074</td>\n",
              "      <td>-0.822843</td>\n",
              "      <td>0.538196</td>\n",
              "      <td>1.345852</td>\n",
              "      <td>-1.119670</td>\n",
              "      <td>0.175121</td>\n",
              "      <td>-0.451449</td>\n",
              "      <td>-0.237033</td>\n",
              "      <td>-0.038195</td>\n",
              "      <td>0.803487</td>\n",
              "      <td>0.408542</td>\n",
              "      <td>-0.009431</td>\n",
              "      <td>0.798278</td>\n",
              "      <td>-0.137458</td>\n",
              "      <td>0.141267</td>\n",
              "      <td>-0.206010</td>\n",
              "      <td>0.502292</td>\n",
              "      <td>0.219422</td>\n",
              "      <td>0.215153</td>\n",
              "      <td>69.99</td>\n",
              "    </tr>\n",
              "    <tr>\n",
              "      <th>...</th>\n",
              "      <td>...</td>\n",
              "      <td>...</td>\n",
              "      <td>...</td>\n",
              "      <td>...</td>\n",
              "      <td>...</td>\n",
              "      <td>...</td>\n",
              "      <td>...</td>\n",
              "      <td>...</td>\n",
              "      <td>...</td>\n",
              "      <td>...</td>\n",
              "      <td>...</td>\n",
              "      <td>...</td>\n",
              "      <td>...</td>\n",
              "      <td>...</td>\n",
              "      <td>...</td>\n",
              "      <td>...</td>\n",
              "      <td>...</td>\n",
              "      <td>...</td>\n",
              "      <td>...</td>\n",
              "      <td>...</td>\n",
              "      <td>...</td>\n",
              "      <td>...</td>\n",
              "      <td>...</td>\n",
              "      <td>...</td>\n",
              "      <td>...</td>\n",
              "      <td>...</td>\n",
              "      <td>...</td>\n",
              "      <td>...</td>\n",
              "      <td>...</td>\n",
              "      <td>...</td>\n",
              "    </tr>\n",
              "    <tr>\n",
              "      <th>284802</th>\n",
              "      <td>172786.0</td>\n",
              "      <td>-11.881118</td>\n",
              "      <td>10.071785</td>\n",
              "      <td>-9.834783</td>\n",
              "      <td>-2.066656</td>\n",
              "      <td>-5.364473</td>\n",
              "      <td>-2.606837</td>\n",
              "      <td>-4.918215</td>\n",
              "      <td>7.305334</td>\n",
              "      <td>1.914428</td>\n",
              "      <td>4.356170</td>\n",
              "      <td>-1.593105</td>\n",
              "      <td>2.711941</td>\n",
              "      <td>-0.689256</td>\n",
              "      <td>4.626942</td>\n",
              "      <td>-0.924459</td>\n",
              "      <td>1.107641</td>\n",
              "      <td>1.991691</td>\n",
              "      <td>0.510632</td>\n",
              "      <td>-0.682920</td>\n",
              "      <td>1.475829</td>\n",
              "      <td>0.213454</td>\n",
              "      <td>0.111864</td>\n",
              "      <td>1.014480</td>\n",
              "      <td>-0.509348</td>\n",
              "      <td>1.436807</td>\n",
              "      <td>0.250034</td>\n",
              "      <td>0.943651</td>\n",
              "      <td>0.823731</td>\n",
              "      <td>0.77</td>\n",
              "    </tr>\n",
              "    <tr>\n",
              "      <th>284803</th>\n",
              "      <td>172787.0</td>\n",
              "      <td>-0.732789</td>\n",
              "      <td>-0.055080</td>\n",
              "      <td>2.035030</td>\n",
              "      <td>-0.738589</td>\n",
              "      <td>0.868229</td>\n",
              "      <td>1.058415</td>\n",
              "      <td>0.024330</td>\n",
              "      <td>0.294869</td>\n",
              "      <td>0.584800</td>\n",
              "      <td>-0.975926</td>\n",
              "      <td>-0.150189</td>\n",
              "      <td>0.915802</td>\n",
              "      <td>1.214756</td>\n",
              "      <td>-0.675143</td>\n",
              "      <td>1.164931</td>\n",
              "      <td>-0.711757</td>\n",
              "      <td>-0.025693</td>\n",
              "      <td>-1.221179</td>\n",
              "      <td>-1.545556</td>\n",
              "      <td>0.059616</td>\n",
              "      <td>0.214205</td>\n",
              "      <td>0.924384</td>\n",
              "      <td>0.012463</td>\n",
              "      <td>-1.016226</td>\n",
              "      <td>-0.606624</td>\n",
              "      <td>-0.395255</td>\n",
              "      <td>0.068472</td>\n",
              "      <td>-0.053527</td>\n",
              "      <td>24.79</td>\n",
              "    </tr>\n",
              "    <tr>\n",
              "      <th>284804</th>\n",
              "      <td>172788.0</td>\n",
              "      <td>1.919565</td>\n",
              "      <td>-0.301254</td>\n",
              "      <td>-3.249640</td>\n",
              "      <td>-0.557828</td>\n",
              "      <td>2.630515</td>\n",
              "      <td>3.031260</td>\n",
              "      <td>-0.296827</td>\n",
              "      <td>0.708417</td>\n",
              "      <td>0.432454</td>\n",
              "      <td>-0.484782</td>\n",
              "      <td>0.411614</td>\n",
              "      <td>0.063119</td>\n",
              "      <td>-0.183699</td>\n",
              "      <td>-0.510602</td>\n",
              "      <td>1.329284</td>\n",
              "      <td>0.140716</td>\n",
              "      <td>0.313502</td>\n",
              "      <td>0.395652</td>\n",
              "      <td>-0.577252</td>\n",
              "      <td>0.001396</td>\n",
              "      <td>0.232045</td>\n",
              "      <td>0.578229</td>\n",
              "      <td>-0.037501</td>\n",
              "      <td>0.640134</td>\n",
              "      <td>0.265745</td>\n",
              "      <td>-0.087371</td>\n",
              "      <td>0.004455</td>\n",
              "      <td>-0.026561</td>\n",
              "      <td>67.88</td>\n",
              "    </tr>\n",
              "    <tr>\n",
              "      <th>284805</th>\n",
              "      <td>172788.0</td>\n",
              "      <td>-0.240440</td>\n",
              "      <td>0.530483</td>\n",
              "      <td>0.702510</td>\n",
              "      <td>0.689799</td>\n",
              "      <td>-0.377961</td>\n",
              "      <td>0.623708</td>\n",
              "      <td>-0.686180</td>\n",
              "      <td>0.679145</td>\n",
              "      <td>0.392087</td>\n",
              "      <td>-0.399126</td>\n",
              "      <td>-1.933849</td>\n",
              "      <td>-0.962886</td>\n",
              "      <td>-1.042082</td>\n",
              "      <td>0.449624</td>\n",
              "      <td>1.962563</td>\n",
              "      <td>-0.608577</td>\n",
              "      <td>0.509928</td>\n",
              "      <td>1.113981</td>\n",
              "      <td>2.897849</td>\n",
              "      <td>0.127434</td>\n",
              "      <td>0.265245</td>\n",
              "      <td>0.800049</td>\n",
              "      <td>-0.163298</td>\n",
              "      <td>0.123205</td>\n",
              "      <td>-0.569159</td>\n",
              "      <td>0.546668</td>\n",
              "      <td>0.108821</td>\n",
              "      <td>0.104533</td>\n",
              "      <td>10.00</td>\n",
              "    </tr>\n",
              "    <tr>\n",
              "      <th>284806</th>\n",
              "      <td>172792.0</td>\n",
              "      <td>-0.533413</td>\n",
              "      <td>-0.189733</td>\n",
              "      <td>0.703337</td>\n",
              "      <td>-0.506271</td>\n",
              "      <td>-0.012546</td>\n",
              "      <td>-0.649617</td>\n",
              "      <td>1.577006</td>\n",
              "      <td>-0.414650</td>\n",
              "      <td>0.486180</td>\n",
              "      <td>-0.915427</td>\n",
              "      <td>-1.040458</td>\n",
              "      <td>-0.031513</td>\n",
              "      <td>-0.188093</td>\n",
              "      <td>-0.084316</td>\n",
              "      <td>0.041333</td>\n",
              "      <td>-0.302620</td>\n",
              "      <td>-0.660377</td>\n",
              "      <td>0.167430</td>\n",
              "      <td>-0.256117</td>\n",
              "      <td>0.382948</td>\n",
              "      <td>0.261057</td>\n",
              "      <td>0.643078</td>\n",
              "      <td>0.376777</td>\n",
              "      <td>0.008797</td>\n",
              "      <td>-0.473649</td>\n",
              "      <td>-0.818267</td>\n",
              "      <td>-0.002415</td>\n",
              "      <td>0.013649</td>\n",
              "      <td>217.00</td>\n",
              "    </tr>\n",
              "  </tbody>\n",
              "</table>\n",
              "<p>284807 rows × 30 columns</p>\n",
              "</div>"
            ],
            "text/plain": [
              "            Time         V1         V2  ...       V27       V28  Amount\n",
              "0            0.0  -1.359807  -0.072781  ...  0.133558 -0.021053  149.62\n",
              "1            0.0   1.191857   0.266151  ... -0.008983  0.014724    2.69\n",
              "2            1.0  -1.358354  -1.340163  ... -0.055353 -0.059752  378.66\n",
              "3            1.0  -0.966272  -0.185226  ...  0.062723  0.061458  123.50\n",
              "4            2.0  -1.158233   0.877737  ...  0.219422  0.215153   69.99\n",
              "...          ...        ...        ...  ...       ...       ...     ...\n",
              "284802  172786.0 -11.881118  10.071785  ...  0.943651  0.823731    0.77\n",
              "284803  172787.0  -0.732789  -0.055080  ...  0.068472 -0.053527   24.79\n",
              "284804  172788.0   1.919565  -0.301254  ...  0.004455 -0.026561   67.88\n",
              "284805  172788.0  -0.240440   0.530483  ...  0.108821  0.104533   10.00\n",
              "284806  172792.0  -0.533413  -0.189733  ... -0.002415  0.013649  217.00\n",
              "\n",
              "[284807 rows x 30 columns]"
            ]
          },
          "metadata": {
            "tags": []
          },
          "execution_count": 16
        }
      ]
    },
    {
      "cell_type": "markdown",
      "metadata": {
        "id": "_hq-EQm_aFXF"
      },
      "source": [
        "Splitting dataset into Train and Test set"
      ]
    },
    {
      "cell_type": "code",
      "metadata": {
        "id": "_NzCIt9_Zx4F"
      },
      "source": [
        "X_train = data[:142400]\n",
        "X_test = data[142400:227840]\n",
        "X_val = data[227840:]"
      ],
      "execution_count": 17,
      "outputs": []
    },
    {
      "cell_type": "code",
      "metadata": {
        "id": "_Y5y9zlMaTzU"
      },
      "source": [
        "Y_train = y[:142400]\n",
        "Y_test = y[142400:227840]\n",
        "Y_val = y[227840:]"
      ],
      "execution_count": 18,
      "outputs": []
    },
    {
      "cell_type": "code",
      "metadata": {
        "colab": {
          "base_uri": "https://localhost:8080/"
        },
        "id": "or6B6I_jabR9",
        "outputId": "0ceddb86-7eb8-4206-da3f-cc9e9292e2c0"
      },
      "source": [
        "print(X_train.shape)\n",
        "print(Y_train.shape)"
      ],
      "execution_count": 19,
      "outputs": [
        {
          "output_type": "stream",
          "text": [
            "(142400, 30)\n",
            "(142400,)\n"
          ],
          "name": "stdout"
        }
      ]
    },
    {
      "cell_type": "code",
      "metadata": {
        "colab": {
          "base_uri": "https://localhost:8080/"
        },
        "id": "RqLm0C2b7HDR",
        "outputId": "f0bb1943-73f1-4f47-802b-e468763c7f1d"
      },
      "source": [
        "X_train.iloc[:,29:].values.mean()"
      ],
      "execution_count": 25,
      "outputs": [
        {
          "output_type": "execute_result",
          "data": {
            "text/plain": [
              "90.68879030898876"
            ]
          },
          "metadata": {
            "tags": []
          },
          "execution_count": 25
        }
      ]
    },
    {
      "cell_type": "code",
      "metadata": {
        "colab": {
          "base_uri": "https://localhost:8080/"
        },
        "id": "Ym5_DR9F-ro7",
        "outputId": "2b663e1a-4625-4979-9321-ee22fae4dc34"
      },
      "source": [
        "X_train.iloc[:,29:].values.std()"
      ],
      "execution_count": 26,
      "outputs": [
        {
          "output_type": "execute_result",
          "data": {
            "text/plain": [
              "246.46099870046643"
            ]
          },
          "metadata": {
            "tags": []
          },
          "execution_count": 26
        }
      ]
    },
    {
      "cell_type": "markdown",
      "metadata": {
        "id": "e8EBlUSfa5FF"
      },
      "source": [
        "### **Normalization**"
      ]
    },
    {
      "cell_type": "code",
      "metadata": {
        "colab": {
          "base_uri": "https://localhost:8080/"
        },
        "id": "9jY5dgina9zi",
        "outputId": "b6cf5bbe-e70b-4588-9b7c-99b7c5688c1c"
      },
      "source": [
        "mean =X_train.iloc[:,29:].values.mean()\n",
        "X_train['Amount'] -= mean\n",
        "\n",
        "std = X_train.iloc[:,29:].values.std()\n",
        "X_train['Amount'] /= std\n",
        "\n",
        "X_test['Amount'] -= mean\n",
        "X_test['Amount'] /= std\n"
      ],
      "execution_count": 27,
      "outputs": [
        {
          "output_type": "stream",
          "text": [
            "/usr/local/lib/python3.7/dist-packages/ipykernel_launcher.py:2: SettingWithCopyWarning: \n",
            "A value is trying to be set on a copy of a slice from a DataFrame.\n",
            "Try using .loc[row_indexer,col_indexer] = value instead\n",
            "\n",
            "See the caveats in the documentation: https://pandas.pydata.org/pandas-docs/stable/user_guide/indexing.html#returning-a-view-versus-a-copy\n",
            "  \n",
            "/usr/local/lib/python3.7/dist-packages/ipykernel_launcher.py:5: SettingWithCopyWarning: \n",
            "A value is trying to be set on a copy of a slice from a DataFrame.\n",
            "Try using .loc[row_indexer,col_indexer] = value instead\n",
            "\n",
            "See the caveats in the documentation: https://pandas.pydata.org/pandas-docs/stable/user_guide/indexing.html#returning-a-view-versus-a-copy\n",
            "  \"\"\"\n",
            "/usr/local/lib/python3.7/dist-packages/ipykernel_launcher.py:7: SettingWithCopyWarning: \n",
            "A value is trying to be set on a copy of a slice from a DataFrame.\n",
            "Try using .loc[row_indexer,col_indexer] = value instead\n",
            "\n",
            "See the caveats in the documentation: https://pandas.pydata.org/pandas-docs/stable/user_guide/indexing.html#returning-a-view-versus-a-copy\n",
            "  import sys\n",
            "/usr/local/lib/python3.7/dist-packages/ipykernel_launcher.py:8: SettingWithCopyWarning: \n",
            "A value is trying to be set on a copy of a slice from a DataFrame.\n",
            "Try using .loc[row_indexer,col_indexer] = value instead\n",
            "\n",
            "See the caveats in the documentation: https://pandas.pydata.org/pandas-docs/stable/user_guide/indexing.html#returning-a-view-versus-a-copy\n",
            "  \n"
          ],
          "name": "stderr"
        }
      ]
    },
    {
      "cell_type": "code",
      "metadata": {
        "id": "5szYWhXvdLQl",
        "colab": {
          "base_uri": "https://localhost:8080/"
        },
        "outputId": "b830334d-1728-4367-a0ee-7983371b2b4c"
      },
      "source": [
        "print(X_train.shape)\n",
        "print(Y_train.shape)"
      ],
      "execution_count": 30,
      "outputs": [
        {
          "output_type": "stream",
          "text": [
            "(142400, 30)\n",
            "(142400,)\n"
          ],
          "name": "stdout"
        }
      ]
    },
    {
      "cell_type": "code",
      "metadata": {
        "colab": {
          "base_uri": "https://localhost:8080/",
          "height": 419
        },
        "id": "dUJ7PbGb_Yao",
        "outputId": "86d4f69d-219b-4ff3-fea5-302f916c5d49"
      },
      "source": [
        "X_train.iloc[:,0:1]"
      ],
      "execution_count": 33,
      "outputs": [
        {
          "output_type": "execute_result",
          "data": {
            "text/html": [
              "<div>\n",
              "<style scoped>\n",
              "    .dataframe tbody tr th:only-of-type {\n",
              "        vertical-align: middle;\n",
              "    }\n",
              "\n",
              "    .dataframe tbody tr th {\n",
              "        vertical-align: top;\n",
              "    }\n",
              "\n",
              "    .dataframe thead th {\n",
              "        text-align: right;\n",
              "    }\n",
              "</style>\n",
              "<table border=\"1\" class=\"dataframe\">\n",
              "  <thead>\n",
              "    <tr style=\"text-align: right;\">\n",
              "      <th></th>\n",
              "      <th>Time</th>\n",
              "    </tr>\n",
              "  </thead>\n",
              "  <tbody>\n",
              "    <tr>\n",
              "      <th>0</th>\n",
              "      <td>0.0</td>\n",
              "    </tr>\n",
              "    <tr>\n",
              "      <th>1</th>\n",
              "      <td>0.0</td>\n",
              "    </tr>\n",
              "    <tr>\n",
              "      <th>2</th>\n",
              "      <td>1.0</td>\n",
              "    </tr>\n",
              "    <tr>\n",
              "      <th>3</th>\n",
              "      <td>1.0</td>\n",
              "    </tr>\n",
              "    <tr>\n",
              "      <th>4</th>\n",
              "      <td>2.0</td>\n",
              "    </tr>\n",
              "    <tr>\n",
              "      <th>...</th>\n",
              "      <td>...</td>\n",
              "    </tr>\n",
              "    <tr>\n",
              "      <th>142395</th>\n",
              "      <td>84687.0</td>\n",
              "    </tr>\n",
              "    <tr>\n",
              "      <th>142396</th>\n",
              "      <td>84687.0</td>\n",
              "    </tr>\n",
              "    <tr>\n",
              "      <th>142397</th>\n",
              "      <td>84688.0</td>\n",
              "    </tr>\n",
              "    <tr>\n",
              "      <th>142398</th>\n",
              "      <td>84689.0</td>\n",
              "    </tr>\n",
              "    <tr>\n",
              "      <th>142399</th>\n",
              "      <td>84690.0</td>\n",
              "    </tr>\n",
              "  </tbody>\n",
              "</table>\n",
              "<p>142400 rows × 1 columns</p>\n",
              "</div>"
            ],
            "text/plain": [
              "           Time\n",
              "0           0.0\n",
              "1           0.0\n",
              "2           1.0\n",
              "3           1.0\n",
              "4           2.0\n",
              "...         ...\n",
              "142395  84687.0\n",
              "142396  84687.0\n",
              "142397  84688.0\n",
              "142398  84689.0\n",
              "142399  84690.0\n",
              "\n",
              "[142400 rows x 1 columns]"
            ]
          },
          "metadata": {
            "tags": []
          },
          "execution_count": 33
        }
      ]
    },
    {
      "cell_type": "code",
      "metadata": {
        "colab": {
          "base_uri": "https://localhost:8080/"
        },
        "id": "eLceIAAkAgtV",
        "outputId": "0be31908-6da5-488d-fe48-1a73b263f8c4"
      },
      "source": [
        "mean =X_train.iloc[:,0:1].values.mean()\n",
        "X_train['Time'] -= mean\n",
        "\n",
        "std = X_train.iloc[:,29:].values.std()\n",
        "X_train['Time'] /= std\n",
        "\n",
        "X_test['Time'] -= mean\n",
        "X_test['Time'] /= std"
      ],
      "execution_count": 34,
      "outputs": [
        {
          "output_type": "stream",
          "text": [
            "/usr/local/lib/python3.7/dist-packages/ipykernel_launcher.py:2: SettingWithCopyWarning: \n",
            "A value is trying to be set on a copy of a slice from a DataFrame.\n",
            "Try using .loc[row_indexer,col_indexer] = value instead\n",
            "\n",
            "See the caveats in the documentation: https://pandas.pydata.org/pandas-docs/stable/user_guide/indexing.html#returning-a-view-versus-a-copy\n",
            "  \n",
            "/usr/local/lib/python3.7/dist-packages/ipykernel_launcher.py:5: SettingWithCopyWarning: \n",
            "A value is trying to be set on a copy of a slice from a DataFrame.\n",
            "Try using .loc[row_indexer,col_indexer] = value instead\n",
            "\n",
            "See the caveats in the documentation: https://pandas.pydata.org/pandas-docs/stable/user_guide/indexing.html#returning-a-view-versus-a-copy\n",
            "  \"\"\"\n",
            "/usr/local/lib/python3.7/dist-packages/ipykernel_launcher.py:7: SettingWithCopyWarning: \n",
            "A value is trying to be set on a copy of a slice from a DataFrame.\n",
            "Try using .loc[row_indexer,col_indexer] = value instead\n",
            "\n",
            "See the caveats in the documentation: https://pandas.pydata.org/pandas-docs/stable/user_guide/indexing.html#returning-a-view-versus-a-copy\n",
            "  import sys\n",
            "/usr/local/lib/python3.7/dist-packages/ipykernel_launcher.py:8: SettingWithCopyWarning: \n",
            "A value is trying to be set on a copy of a slice from a DataFrame.\n",
            "Try using .loc[row_indexer,col_indexer] = value instead\n",
            "\n",
            "See the caveats in the documentation: https://pandas.pydata.org/pandas-docs/stable/user_guide/indexing.html#returning-a-view-versus-a-copy\n",
            "  \n"
          ],
          "name": "stderr"
        }
      ]
    },
    {
      "cell_type": "code",
      "metadata": {
        "colab": {
          "base_uri": "https://localhost:8080/",
          "height": 439
        },
        "id": "t13UHJl2A62x",
        "outputId": "da9c157a-8d46-4423-c263-d77ffa9f073a"
      },
      "source": [
        "X_train"
      ],
      "execution_count": 35,
      "outputs": [
        {
          "output_type": "execute_result",
          "data": {
            "text/html": [
              "<div>\n",
              "<style scoped>\n",
              "    .dataframe tbody tr th:only-of-type {\n",
              "        vertical-align: middle;\n",
              "    }\n",
              "\n",
              "    .dataframe tbody tr th {\n",
              "        vertical-align: top;\n",
              "    }\n",
              "\n",
              "    .dataframe thead th {\n",
              "        text-align: right;\n",
              "    }\n",
              "</style>\n",
              "<table border=\"1\" class=\"dataframe\">\n",
              "  <thead>\n",
              "    <tr style=\"text-align: right;\">\n",
              "      <th></th>\n",
              "      <th>Time</th>\n",
              "      <th>V1</th>\n",
              "      <th>V2</th>\n",
              "      <th>V3</th>\n",
              "      <th>V4</th>\n",
              "      <th>V5</th>\n",
              "      <th>V6</th>\n",
              "      <th>V7</th>\n",
              "      <th>V8</th>\n",
              "      <th>V9</th>\n",
              "      <th>V10</th>\n",
              "      <th>V11</th>\n",
              "      <th>V12</th>\n",
              "      <th>V13</th>\n",
              "      <th>V14</th>\n",
              "      <th>V15</th>\n",
              "      <th>V16</th>\n",
              "      <th>V17</th>\n",
              "      <th>V18</th>\n",
              "      <th>V19</th>\n",
              "      <th>V20</th>\n",
              "      <th>V21</th>\n",
              "      <th>V22</th>\n",
              "      <th>V23</th>\n",
              "      <th>V24</th>\n",
              "      <th>V25</th>\n",
              "      <th>V26</th>\n",
              "      <th>V27</th>\n",
              "      <th>V28</th>\n",
              "      <th>Amount</th>\n",
              "    </tr>\n",
              "  </thead>\n",
              "  <tbody>\n",
              "    <tr>\n",
              "      <th>0</th>\n",
              "      <td>-52402.242205</td>\n",
              "      <td>-1.359807</td>\n",
              "      <td>-0.072781</td>\n",
              "      <td>2.536347</td>\n",
              "      <td>1.378155</td>\n",
              "      <td>-0.338321</td>\n",
              "      <td>0.462388</td>\n",
              "      <td>0.239599</td>\n",
              "      <td>0.098698</td>\n",
              "      <td>0.363787</td>\n",
              "      <td>0.090794</td>\n",
              "      <td>-0.551600</td>\n",
              "      <td>-0.617801</td>\n",
              "      <td>-0.991390</td>\n",
              "      <td>-0.311169</td>\n",
              "      <td>1.468177</td>\n",
              "      <td>-0.470401</td>\n",
              "      <td>0.207971</td>\n",
              "      <td>0.025791</td>\n",
              "      <td>0.403993</td>\n",
              "      <td>0.251412</td>\n",
              "      <td>-0.018307</td>\n",
              "      <td>0.277838</td>\n",
              "      <td>-0.110474</td>\n",
              "      <td>0.066928</td>\n",
              "      <td>0.128539</td>\n",
              "      <td>-0.189115</td>\n",
              "      <td>0.133558</td>\n",
              "      <td>-0.021053</td>\n",
              "      <td>0.239110</td>\n",
              "    </tr>\n",
              "    <tr>\n",
              "      <th>1</th>\n",
              "      <td>-52402.242205</td>\n",
              "      <td>1.191857</td>\n",
              "      <td>0.266151</td>\n",
              "      <td>0.166480</td>\n",
              "      <td>0.448154</td>\n",
              "      <td>0.060018</td>\n",
              "      <td>-0.082361</td>\n",
              "      <td>-0.078803</td>\n",
              "      <td>0.085102</td>\n",
              "      <td>-0.255425</td>\n",
              "      <td>-0.166974</td>\n",
              "      <td>1.612727</td>\n",
              "      <td>1.065235</td>\n",
              "      <td>0.489095</td>\n",
              "      <td>-0.143772</td>\n",
              "      <td>0.635558</td>\n",
              "      <td>0.463917</td>\n",
              "      <td>-0.114805</td>\n",
              "      <td>-0.183361</td>\n",
              "      <td>-0.145783</td>\n",
              "      <td>-0.069083</td>\n",
              "      <td>-0.225775</td>\n",
              "      <td>-0.638672</td>\n",
              "      <td>0.101288</td>\n",
              "      <td>-0.339846</td>\n",
              "      <td>0.167170</td>\n",
              "      <td>0.125895</td>\n",
              "      <td>-0.008983</td>\n",
              "      <td>0.014724</td>\n",
              "      <td>-0.357050</td>\n",
              "    </tr>\n",
              "    <tr>\n",
              "      <th>2</th>\n",
              "      <td>-52401.242205</td>\n",
              "      <td>-1.358354</td>\n",
              "      <td>-1.340163</td>\n",
              "      <td>1.773209</td>\n",
              "      <td>0.379780</td>\n",
              "      <td>-0.503198</td>\n",
              "      <td>1.800499</td>\n",
              "      <td>0.791461</td>\n",
              "      <td>0.247676</td>\n",
              "      <td>-1.514654</td>\n",
              "      <td>0.207643</td>\n",
              "      <td>0.624501</td>\n",
              "      <td>0.066084</td>\n",
              "      <td>0.717293</td>\n",
              "      <td>-0.165946</td>\n",
              "      <td>2.345865</td>\n",
              "      <td>-2.890083</td>\n",
              "      <td>1.109969</td>\n",
              "      <td>-0.121359</td>\n",
              "      <td>-2.261857</td>\n",
              "      <td>0.524980</td>\n",
              "      <td>0.247998</td>\n",
              "      <td>0.771679</td>\n",
              "      <td>0.909412</td>\n",
              "      <td>-0.689281</td>\n",
              "      <td>-0.327642</td>\n",
              "      <td>-0.139097</td>\n",
              "      <td>-0.055353</td>\n",
              "      <td>-0.059752</td>\n",
              "      <td>1.168425</td>\n",
              "    </tr>\n",
              "    <tr>\n",
              "      <th>3</th>\n",
              "      <td>-52401.242205</td>\n",
              "      <td>-0.966272</td>\n",
              "      <td>-0.185226</td>\n",
              "      <td>1.792993</td>\n",
              "      <td>-0.863291</td>\n",
              "      <td>-0.010309</td>\n",
              "      <td>1.247203</td>\n",
              "      <td>0.237609</td>\n",
              "      <td>0.377436</td>\n",
              "      <td>-1.387024</td>\n",
              "      <td>-0.054952</td>\n",
              "      <td>-0.226487</td>\n",
              "      <td>0.178228</td>\n",
              "      <td>0.507757</td>\n",
              "      <td>-0.287924</td>\n",
              "      <td>-0.631418</td>\n",
              "      <td>-1.059647</td>\n",
              "      <td>-0.684093</td>\n",
              "      <td>1.965775</td>\n",
              "      <td>-1.232622</td>\n",
              "      <td>-0.208038</td>\n",
              "      <td>-0.108300</td>\n",
              "      <td>0.005274</td>\n",
              "      <td>-0.190321</td>\n",
              "      <td>-1.175575</td>\n",
              "      <td>0.647376</td>\n",
              "      <td>-0.221929</td>\n",
              "      <td>0.062723</td>\n",
              "      <td>0.061458</td>\n",
              "      <td>0.133129</td>\n",
              "    </tr>\n",
              "    <tr>\n",
              "      <th>4</th>\n",
              "      <td>-52400.242205</td>\n",
              "      <td>-1.158233</td>\n",
              "      <td>0.877737</td>\n",
              "      <td>1.548718</td>\n",
              "      <td>0.403034</td>\n",
              "      <td>-0.407193</td>\n",
              "      <td>0.095921</td>\n",
              "      <td>0.592941</td>\n",
              "      <td>-0.270533</td>\n",
              "      <td>0.817739</td>\n",
              "      <td>0.753074</td>\n",
              "      <td>-0.822843</td>\n",
              "      <td>0.538196</td>\n",
              "      <td>1.345852</td>\n",
              "      <td>-1.119670</td>\n",
              "      <td>0.175121</td>\n",
              "      <td>-0.451449</td>\n",
              "      <td>-0.237033</td>\n",
              "      <td>-0.038195</td>\n",
              "      <td>0.803487</td>\n",
              "      <td>0.408542</td>\n",
              "      <td>-0.009431</td>\n",
              "      <td>0.798278</td>\n",
              "      <td>-0.137458</td>\n",
              "      <td>0.141267</td>\n",
              "      <td>-0.206010</td>\n",
              "      <td>0.502292</td>\n",
              "      <td>0.219422</td>\n",
              "      <td>0.215153</td>\n",
              "      <td>-0.083984</td>\n",
              "    </tr>\n",
              "    <tr>\n",
              "      <th>...</th>\n",
              "      <td>...</td>\n",
              "      <td>...</td>\n",
              "      <td>...</td>\n",
              "      <td>...</td>\n",
              "      <td>...</td>\n",
              "      <td>...</td>\n",
              "      <td>...</td>\n",
              "      <td>...</td>\n",
              "      <td>...</td>\n",
              "      <td>...</td>\n",
              "      <td>...</td>\n",
              "      <td>...</td>\n",
              "      <td>...</td>\n",
              "      <td>...</td>\n",
              "      <td>...</td>\n",
              "      <td>...</td>\n",
              "      <td>...</td>\n",
              "      <td>...</td>\n",
              "      <td>...</td>\n",
              "      <td>...</td>\n",
              "      <td>...</td>\n",
              "      <td>...</td>\n",
              "      <td>...</td>\n",
              "      <td>...</td>\n",
              "      <td>...</td>\n",
              "      <td>...</td>\n",
              "      <td>...</td>\n",
              "      <td>...</td>\n",
              "      <td>...</td>\n",
              "      <td>...</td>\n",
              "    </tr>\n",
              "    <tr>\n",
              "      <th>142395</th>\n",
              "      <td>32284.757795</td>\n",
              "      <td>-0.720308</td>\n",
              "      <td>-4.195335</td>\n",
              "      <td>0.411812</td>\n",
              "      <td>-0.311117</td>\n",
              "      <td>-2.563613</td>\n",
              "      <td>1.292510</td>\n",
              "      <td>-0.334193</td>\n",
              "      <td>0.365881</td>\n",
              "      <td>2.884359</td>\n",
              "      <td>-1.781717</td>\n",
              "      <td>0.304302</td>\n",
              "      <td>1.450280</td>\n",
              "      <td>-0.844647</td>\n",
              "      <td>-0.620855</td>\n",
              "      <td>-0.921163</td>\n",
              "      <td>-0.943548</td>\n",
              "      <td>0.566416</td>\n",
              "      <td>0.491140</td>\n",
              "      <td>0.957506</td>\n",
              "      <td>1.767588</td>\n",
              "      <td>0.698688</td>\n",
              "      <td>0.445542</td>\n",
              "      <td>-1.027680</td>\n",
              "      <td>-0.147869</td>\n",
              "      <td>0.131970</td>\n",
              "      <td>0.173358</td>\n",
              "      <td>-0.070663</td>\n",
              "      <td>0.176413</td>\n",
              "      <td>3.520805</td>\n",
              "    </tr>\n",
              "    <tr>\n",
              "      <th>142396</th>\n",
              "      <td>32284.757795</td>\n",
              "      <td>-0.537152</td>\n",
              "      <td>1.072182</td>\n",
              "      <td>1.316695</td>\n",
              "      <td>1.123155</td>\n",
              "      <td>0.185313</td>\n",
              "      <td>0.105776</td>\n",
              "      <td>0.790742</td>\n",
              "      <td>-0.081411</td>\n",
              "      <td>-0.312631</td>\n",
              "      <td>-0.170547</td>\n",
              "      <td>-0.548610</td>\n",
              "      <td>0.518188</td>\n",
              "      <td>0.498129</td>\n",
              "      <td>-0.173642</td>\n",
              "      <td>-0.047593</td>\n",
              "      <td>-1.138757</td>\n",
              "      <td>0.448663</td>\n",
              "      <td>-0.805301</td>\n",
              "      <td>0.438916</td>\n",
              "      <td>-0.079131</td>\n",
              "      <td>0.056192</td>\n",
              "      <td>0.379248</td>\n",
              "      <td>-0.115989</td>\n",
              "      <td>0.117478</td>\n",
              "      <td>-0.280746</td>\n",
              "      <td>-0.345392</td>\n",
              "      <td>-0.047852</td>\n",
              "      <td>0.152489</td>\n",
              "      <td>-0.237031</td>\n",
              "    </tr>\n",
              "    <tr>\n",
              "      <th>142397</th>\n",
              "      <td>32285.757795</td>\n",
              "      <td>-1.091024</td>\n",
              "      <td>0.680341</td>\n",
              "      <td>-0.030040</td>\n",
              "      <td>-1.913987</td>\n",
              "      <td>-0.461060</td>\n",
              "      <td>-0.387802</td>\n",
              "      <td>1.195571</td>\n",
              "      <td>0.276549</td>\n",
              "      <td>0.374670</td>\n",
              "      <td>-1.502426</td>\n",
              "      <td>1.247522</td>\n",
              "      <td>1.821365</td>\n",
              "      <td>0.524183</td>\n",
              "      <td>0.482989</td>\n",
              "      <td>-0.636140</td>\n",
              "      <td>-0.918655</td>\n",
              "      <td>-0.054105</td>\n",
              "      <td>-0.205237</td>\n",
              "      <td>0.068689</td>\n",
              "      <td>-0.157917</td>\n",
              "      <td>0.213745</td>\n",
              "      <td>0.873980</td>\n",
              "      <td>0.087773</td>\n",
              "      <td>0.062275</td>\n",
              "      <td>-0.080598</td>\n",
              "      <td>-0.813116</td>\n",
              "      <td>0.277535</td>\n",
              "      <td>0.114179</td>\n",
              "      <td>0.281307</td>\n",
              "    </tr>\n",
              "    <tr>\n",
              "      <th>142398</th>\n",
              "      <td>32286.757795</td>\n",
              "      <td>-0.958424</td>\n",
              "      <td>0.158677</td>\n",
              "      <td>0.355967</td>\n",
              "      <td>-1.285726</td>\n",
              "      <td>2.624957</td>\n",
              "      <td>3.568378</td>\n",
              "      <td>0.253679</td>\n",
              "      <td>0.967816</td>\n",
              "      <td>-0.350978</td>\n",
              "      <td>-0.907931</td>\n",
              "      <td>-0.665462</td>\n",
              "      <td>-0.106806</td>\n",
              "      <td>-0.324360</td>\n",
              "      <td>-0.024121</td>\n",
              "      <td>-0.496300</td>\n",
              "      <td>0.151528</td>\n",
              "      <td>-0.623307</td>\n",
              "      <td>-0.110405</td>\n",
              "      <td>0.225564</td>\n",
              "      <td>0.228454</td>\n",
              "      <td>-0.177771</td>\n",
              "      <td>-0.769466</td>\n",
              "      <td>-0.134086</td>\n",
              "      <td>1.014527</td>\n",
              "      <td>0.637807</td>\n",
              "      <td>0.220354</td>\n",
              "      <td>-0.031313</td>\n",
              "      <td>0.057888</td>\n",
              "      <td>-0.093641</td>\n",
              "    </tr>\n",
              "    <tr>\n",
              "      <th>142399</th>\n",
              "      <td>32287.757795</td>\n",
              "      <td>0.984968</td>\n",
              "      <td>0.128543</td>\n",
              "      <td>0.184937</td>\n",
              "      <td>1.111150</td>\n",
              "      <td>-0.219888</td>\n",
              "      <td>-0.848688</td>\n",
              "      <td>0.516601</td>\n",
              "      <td>-0.198159</td>\n",
              "      <td>-0.553829</td>\n",
              "      <td>0.096242</td>\n",
              "      <td>1.685565</td>\n",
              "      <td>1.318547</td>\n",
              "      <td>0.335694</td>\n",
              "      <td>0.659657</td>\n",
              "      <td>0.021599</td>\n",
              "      <td>0.119501</td>\n",
              "      <td>-0.552154</td>\n",
              "      <td>-0.290959</td>\n",
              "      <td>0.081514</td>\n",
              "      <td>0.103577</td>\n",
              "      <td>-0.253419</td>\n",
              "      <td>-1.015941</td>\n",
              "      <td>0.056629</td>\n",
              "      <td>0.487439</td>\n",
              "      <td>0.322926</td>\n",
              "      <td>-0.784093</td>\n",
              "      <td>-0.017026</td>\n",
              "      <td>0.035475</td>\n",
              "      <td>0.086104</td>\n",
              "    </tr>\n",
              "  </tbody>\n",
              "</table>\n",
              "<p>142400 rows × 30 columns</p>\n",
              "</div>"
            ],
            "text/plain": [
              "                Time        V1        V2  ...       V27       V28    Amount\n",
              "0      -52402.242205 -1.359807 -0.072781  ...  0.133558 -0.021053  0.239110\n",
              "1      -52402.242205  1.191857  0.266151  ... -0.008983  0.014724 -0.357050\n",
              "2      -52401.242205 -1.358354 -1.340163  ... -0.055353 -0.059752  1.168425\n",
              "3      -52401.242205 -0.966272 -0.185226  ...  0.062723  0.061458  0.133129\n",
              "4      -52400.242205 -1.158233  0.877737  ...  0.219422  0.215153 -0.083984\n",
              "...              ...       ...       ...  ...       ...       ...       ...\n",
              "142395  32284.757795 -0.720308 -4.195335  ... -0.070663  0.176413  3.520805\n",
              "142396  32284.757795 -0.537152  1.072182  ... -0.047852  0.152489 -0.237031\n",
              "142397  32285.757795 -1.091024  0.680341  ...  0.277535  0.114179  0.281307\n",
              "142398  32286.757795 -0.958424  0.158677  ... -0.031313  0.057888 -0.093641\n",
              "142399  32287.757795  0.984968  0.128543  ... -0.017026  0.035475  0.086104\n",
              "\n",
              "[142400 rows x 30 columns]"
            ]
          },
          "metadata": {
            "tags": []
          },
          "execution_count": 35
        }
      ]
    },
    {
      "cell_type": "code",
      "metadata": {
        "colab": {
          "base_uri": "https://localhost:8080/"
        },
        "id": "m9gbzaAjA_fF",
        "outputId": "fb156eca-5033-4ca7-a924-5fc942eda5df"
      },
      "source": [
        "print(X_train.shape)\n",
        "print(Y_train.shape)\n",
        "print(X_test.shape)\n",
        "print(Y_test.shape)"
      ],
      "execution_count": 36,
      "outputs": [
        {
          "output_type": "stream",
          "text": [
            "(142400, 30)\n",
            "(142400,)\n",
            "(85440, 30)\n",
            "(85440,)\n"
          ],
          "name": "stdout"
        }
      ]
    },
    {
      "cell_type": "code",
      "metadata": {
        "colab": {
          "base_uri": "https://localhost:8080/"
        },
        "id": "NoUn0KlMCQZE",
        "outputId": "2c115260-6666-4014-c7c4-107f3f7daafe"
      },
      "source": [
        "X_train.shape[1]"
      ],
      "execution_count": 37,
      "outputs": [
        {
          "output_type": "execute_result",
          "data": {
            "text/plain": [
              "30"
            ]
          },
          "metadata": {
            "tags": []
          },
          "execution_count": 37
        }
      ]
    },
    {
      "cell_type": "code",
      "metadata": {
        "id": "fIEiqqqKBeO9"
      },
      "source": [
        "from keras import models\n",
        "from keras import layers\n",
        "model = models.Sequential()\n",
        "model.add(layers.Dense(10, activation = 'relu', input_shape = (30,)))\n",
        "model.add(layers.Dense(8, activation = 'relu'))\n",
        "model.add(layers.Dense(6, activation = 'relu'))\n",
        "model.add(layers.Dense(1, activation = 'sigmoid'))\n",
        "\n",
        "model.compile(optimizer = 'adam', loss = 'binary_crossentropy', metrics = ['accuracy'])"
      ],
      "execution_count": 39,
      "outputs": []
    },
    {
      "cell_type": "code",
      "metadata": {
        "colab": {
          "base_uri": "https://localhost:8080/"
        },
        "id": "ZOmCloM5C7M-",
        "outputId": "3d276c72-7ee9-4649-85a9-d900ee584c8c"
      },
      "source": [
        "history=model.fit(X_train, Y_train,validation_data= (X_val, Y_val),epochs=100, batch_size=256, verbose=1)"
      ],
      "execution_count": 41,
      "outputs": [
        {
          "output_type": "stream",
          "text": [
            "Epoch 1/100\n",
            "557/557 [==============================] - 2s 2ms/step - loss: 1.6683 - accuracy: 0.9961 - val_loss: 1.2253 - val_accuracy: 0.9887\n",
            "Epoch 2/100\n",
            "557/557 [==============================] - 1s 2ms/step - loss: 0.0453 - accuracy: 0.9978 - val_loss: 0.5753 - val_accuracy: 0.9966\n",
            "Epoch 3/100\n",
            "557/557 [==============================] - 1s 2ms/step - loss: 0.3161 - accuracy: 0.9978 - val_loss: 9.4257 - val_accuracy: 0.9987\n",
            "Epoch 4/100\n",
            "557/557 [==============================] - 1s 2ms/step - loss: 0.2132 - accuracy: 0.9980 - val_loss: 6.7672 - val_accuracy: 0.9987\n",
            "Epoch 5/100\n",
            "557/557 [==============================] - 1s 2ms/step - loss: 0.1500 - accuracy: 0.9982 - val_loss: 0.9533 - val_accuracy: 0.9947\n",
            "Epoch 6/100\n",
            "557/557 [==============================] - 1s 2ms/step - loss: 0.1084 - accuracy: 0.9981 - val_loss: 0.7684 - val_accuracy: 0.9955\n",
            "Epoch 7/100\n",
            "557/557 [==============================] - 1s 2ms/step - loss: 0.3826 - accuracy: 0.9975 - val_loss: 0.8004 - val_accuracy: 0.9980\n",
            "Epoch 8/100\n",
            "557/557 [==============================] - 1s 2ms/step - loss: 0.1160 - accuracy: 0.9982 - val_loss: 19.8391 - val_accuracy: 0.9987\n",
            "Epoch 9/100\n",
            "557/557 [==============================] - 1s 2ms/step - loss: 0.6555 - accuracy: 0.9981 - val_loss: 4.5766 - val_accuracy: 0.8963\n",
            "Epoch 10/100\n",
            "557/557 [==============================] - 1s 2ms/step - loss: 0.0160 - accuracy: 0.9984 - val_loss: 0.4977 - val_accuracy: 0.9966\n",
            "Epoch 11/100\n",
            "557/557 [==============================] - 1s 2ms/step - loss: 0.2975 - accuracy: 0.9979 - val_loss: 0.8160 - val_accuracy: 0.9904\n",
            "Epoch 12/100\n",
            "557/557 [==============================] - 1s 2ms/step - loss: 0.0261 - accuracy: 0.9983 - val_loss: 1.5124 - val_accuracy: 0.9987\n",
            "Epoch 13/100\n",
            "557/557 [==============================] - 1s 2ms/step - loss: 0.1897 - accuracy: 0.9981 - val_loss: 2.9164 - val_accuracy: 0.9216\n",
            "Epoch 14/100\n",
            "557/557 [==============================] - 1s 2ms/step - loss: 0.2532 - accuracy: 0.9979 - val_loss: 3.5551 - val_accuracy: 0.9987\n",
            "Epoch 15/100\n",
            "557/557 [==============================] - 1s 2ms/step - loss: 0.0494 - accuracy: 0.9983 - val_loss: 1.0209 - val_accuracy: 0.9856\n",
            "Epoch 16/100\n",
            "557/557 [==============================] - 1s 2ms/step - loss: 0.0342 - accuracy: 0.9985 - val_loss: 0.3356 - val_accuracy: 0.9971\n",
            "Epoch 17/100\n",
            "557/557 [==============================] - 1s 2ms/step - loss: 0.1362 - accuracy: 0.9983 - val_loss: 2.9291 - val_accuracy: 0.9987\n",
            "Epoch 18/100\n",
            "557/557 [==============================] - 1s 2ms/step - loss: 0.0350 - accuracy: 0.9985 - val_loss: 0.3648 - val_accuracy: 0.9957\n",
            "Epoch 19/100\n",
            "557/557 [==============================] - 1s 2ms/step - loss: 0.0265 - accuracy: 0.9983 - val_loss: 13.9932 - val_accuracy: 0.9987\n",
            "Epoch 20/100\n",
            "557/557 [==============================] - 1s 2ms/step - loss: 0.4222 - accuracy: 0.9981 - val_loss: 3.4070 - val_accuracy: 0.8491\n",
            "Epoch 21/100\n",
            "557/557 [==============================] - 1s 2ms/step - loss: 0.0156 - accuracy: 0.9984 - val_loss: 0.3215 - val_accuracy: 0.9983\n",
            "Epoch 22/100\n",
            "557/557 [==============================] - 1s 2ms/step - loss: 0.0454 - accuracy: 0.9983 - val_loss: 1.7418 - val_accuracy: 0.9987\n",
            "Epoch 23/100\n",
            "557/557 [==============================] - 1s 2ms/step - loss: 0.0216 - accuracy: 0.9985 - val_loss: 2.0554 - val_accuracy: 0.9211\n",
            "Epoch 24/100\n",
            "557/557 [==============================] - 1s 2ms/step - loss: 0.0445 - accuracy: 0.9985 - val_loss: 0.2318 - val_accuracy: 0.9980\n",
            "Epoch 25/100\n",
            "557/557 [==============================] - 1s 2ms/step - loss: 0.3070 - accuracy: 0.9971 - val_loss: 1.4855 - val_accuracy: 0.9987\n",
            "Epoch 26/100\n",
            "557/557 [==============================] - 1s 2ms/step - loss: 0.0155 - accuracy: 0.9986 - val_loss: 0.2647 - val_accuracy: 0.9983\n",
            "Epoch 27/100\n",
            "557/557 [==============================] - 1s 2ms/step - loss: 0.0157 - accuracy: 0.9986 - val_loss: 1.3799 - val_accuracy: 0.9987\n",
            "Epoch 28/100\n",
            "557/557 [==============================] - 1s 2ms/step - loss: 0.1056 - accuracy: 0.9983 - val_loss: 4.4780 - val_accuracy: 0.9987\n",
            "Epoch 29/100\n",
            "557/557 [==============================] - 1s 2ms/step - loss: 0.0810 - accuracy: 0.9983 - val_loss: 0.6989 - val_accuracy: 0.9754\n",
            "Epoch 30/100\n",
            "557/557 [==============================] - 1s 2ms/step - loss: 0.0253 - accuracy: 0.9983 - val_loss: 8.9211 - val_accuracy: 0.9987\n",
            "Epoch 31/100\n",
            "557/557 [==============================] - 1s 2ms/step - loss: 0.2800 - accuracy: 0.9979 - val_loss: 0.3122 - val_accuracy: 0.9982\n",
            "Epoch 32/100\n",
            "557/557 [==============================] - 1s 2ms/step - loss: 0.0146 - accuracy: 0.9986 - val_loss: 0.2270 - val_accuracy: 0.9978\n",
            "Epoch 33/100\n",
            "557/557 [==============================] - 1s 2ms/step - loss: 0.0118 - accuracy: 0.9987 - val_loss: 0.2274 - val_accuracy: 0.9985\n",
            "Epoch 34/100\n",
            "557/557 [==============================] - 1s 2ms/step - loss: 0.0162 - accuracy: 0.9986 - val_loss: 0.3252 - val_accuracy: 0.9985\n",
            "Epoch 35/100\n",
            "557/557 [==============================] - 1s 2ms/step - loss: 0.0114 - accuracy: 0.9986 - val_loss: 0.2440 - val_accuracy: 0.9985\n",
            "Epoch 36/100\n",
            "557/557 [==============================] - 1s 2ms/step - loss: 0.1607 - accuracy: 0.9978 - val_loss: 1.2510 - val_accuracy: 0.9987\n",
            "Epoch 37/100\n",
            "557/557 [==============================] - 1s 2ms/step - loss: 0.0197 - accuracy: 0.9984 - val_loss: 0.1922 - val_accuracy: 0.9985\n",
            "Epoch 38/100\n",
            "557/557 [==============================] - 1s 2ms/step - loss: 0.0138 - accuracy: 0.9986 - val_loss: 0.1232 - val_accuracy: 0.9982\n",
            "Epoch 39/100\n",
            "557/557 [==============================] - 1s 2ms/step - loss: 0.0482 - accuracy: 0.9984 - val_loss: 0.1900 - val_accuracy: 0.9983\n",
            "Epoch 40/100\n",
            "557/557 [==============================] - 1s 2ms/step - loss: 0.0135 - accuracy: 0.9985 - val_loss: 0.4029 - val_accuracy: 0.9986\n",
            "Epoch 41/100\n",
            "557/557 [==============================] - 1s 2ms/step - loss: 0.0327 - accuracy: 0.9982 - val_loss: 0.1772 - val_accuracy: 0.9985\n",
            "Epoch 42/100\n",
            "557/557 [==============================] - 1s 2ms/step - loss: 0.1204 - accuracy: 0.9976 - val_loss: 0.5127 - val_accuracy: 0.9812\n",
            "Epoch 43/100\n",
            "557/557 [==============================] - 1s 2ms/step - loss: 0.0138 - accuracy: 0.9985 - val_loss: 0.2134 - val_accuracy: 0.9985\n",
            "Epoch 44/100\n",
            "557/557 [==============================] - 1s 2ms/step - loss: 0.0158 - accuracy: 0.9983 - val_loss: 0.1989 - val_accuracy: 0.9933\n",
            "Epoch 45/100\n",
            "557/557 [==============================] - 1s 2ms/step - loss: 0.0112 - accuracy: 0.9987 - val_loss: 0.0900 - val_accuracy: 0.9985\n",
            "Epoch 46/100\n",
            "557/557 [==============================] - 1s 2ms/step - loss: 0.0140 - accuracy: 0.9984 - val_loss: 0.0337 - val_accuracy: 0.9985\n",
            "Epoch 47/100\n",
            "557/557 [==============================] - 1s 2ms/step - loss: 0.0166 - accuracy: 0.9985 - val_loss: 0.1227 - val_accuracy: 0.9980\n",
            "Epoch 48/100\n",
            "557/557 [==============================] - 1s 2ms/step - loss: 0.0267 - accuracy: 0.9981 - val_loss: 0.1501 - val_accuracy: 0.9985\n",
            "Epoch 49/100\n",
            "557/557 [==============================] - 1s 2ms/step - loss: 0.0159 - accuracy: 0.9985 - val_loss: 0.2377 - val_accuracy: 0.9987\n",
            "Epoch 50/100\n",
            "557/557 [==============================] - 1s 2ms/step - loss: 0.0135 - accuracy: 0.9985 - val_loss: 0.5370 - val_accuracy: 0.9987\n",
            "Epoch 51/100\n",
            "557/557 [==============================] - 1s 2ms/step - loss: 0.0760 - accuracy: 0.9979 - val_loss: 0.1651 - val_accuracy: 0.9954\n",
            "Epoch 52/100\n",
            "557/557 [==============================] - 1s 2ms/step - loss: 0.0109 - accuracy: 0.9986 - val_loss: 0.1468 - val_accuracy: 0.9958\n",
            "Epoch 53/100\n",
            "557/557 [==============================] - 1s 2ms/step - loss: 0.0115 - accuracy: 0.9985 - val_loss: 0.2047 - val_accuracy: 0.9984\n",
            "Epoch 54/100\n",
            "557/557 [==============================] - 1s 2ms/step - loss: 0.0190 - accuracy: 0.9983 - val_loss: 0.4641 - val_accuracy: 0.9987\n",
            "Epoch 55/100\n",
            "557/557 [==============================] - 1s 2ms/step - loss: 0.0174 - accuracy: 0.9983 - val_loss: 0.1055 - val_accuracy: 0.9960\n",
            "Epoch 56/100\n",
            "557/557 [==============================] - 1s 2ms/step - loss: 0.0112 - accuracy: 0.9985 - val_loss: 0.1078 - val_accuracy: 0.9979\n",
            "Epoch 57/100\n",
            "557/557 [==============================] - 1s 2ms/step - loss: 0.0114 - accuracy: 0.9985 - val_loss: 0.3433 - val_accuracy: 0.9985\n",
            "Epoch 58/100\n",
            "557/557 [==============================] - 1s 2ms/step - loss: 0.0129 - accuracy: 0.9985 - val_loss: 0.1225 - val_accuracy: 0.9960\n",
            "Epoch 59/100\n",
            "557/557 [==============================] - 1s 2ms/step - loss: 0.0108 - accuracy: 0.9986 - val_loss: 0.1061 - val_accuracy: 0.9972\n",
            "Epoch 60/100\n",
            "557/557 [==============================] - 1s 2ms/step - loss: 0.0177 - accuracy: 0.9984 - val_loss: 0.1030 - val_accuracy: 0.9957\n",
            "Epoch 61/100\n",
            "557/557 [==============================] - 1s 2ms/step - loss: 0.0107 - accuracy: 0.9985 - val_loss: 0.1067 - val_accuracy: 0.9951\n",
            "Epoch 62/100\n",
            "557/557 [==============================] - 1s 2ms/step - loss: 0.0106 - accuracy: 0.9985 - val_loss: 0.0803 - val_accuracy: 0.9969\n",
            "Epoch 63/100\n",
            "557/557 [==============================] - 1s 2ms/step - loss: 0.0117 - accuracy: 0.9983 - val_loss: 0.0903 - val_accuracy: 0.9977\n",
            "Epoch 64/100\n",
            "557/557 [==============================] - 1s 2ms/step - loss: 0.0213 - accuracy: 0.9984 - val_loss: 0.0236 - val_accuracy: 0.9987\n",
            "Epoch 65/100\n",
            "557/557 [==============================] - 1s 2ms/step - loss: 0.0125 - accuracy: 0.9983 - val_loss: 0.0344 - val_accuracy: 0.9987\n",
            "Epoch 66/100\n",
            "557/557 [==============================] - 1s 2ms/step - loss: 0.0117 - accuracy: 0.9983 - val_loss: 0.0142 - val_accuracy: 0.9940\n",
            "Epoch 67/100\n",
            "557/557 [==============================] - 1s 2ms/step - loss: 0.0121 - accuracy: 0.9984 - val_loss: 0.0545 - val_accuracy: 0.9895\n",
            "Epoch 68/100\n",
            "557/557 [==============================] - 1s 2ms/step - loss: 0.0119 - accuracy: 0.9983 - val_loss: 0.0244 - val_accuracy: 0.9987\n",
            "Epoch 69/100\n",
            "557/557 [==============================] - 1s 2ms/step - loss: 0.0107 - accuracy: 0.9985 - val_loss: 0.0806 - val_accuracy: 0.9901\n",
            "Epoch 70/100\n",
            "557/557 [==============================] - 1s 2ms/step - loss: 0.0116 - accuracy: 0.9984 - val_loss: 0.0311 - val_accuracy: 0.9987\n",
            "Epoch 71/100\n",
            "557/557 [==============================] - 1s 2ms/step - loss: 0.0120 - accuracy: 0.9985 - val_loss: 0.5703 - val_accuracy: 0.9613\n",
            "Epoch 72/100\n",
            "557/557 [==============================] - 1s 2ms/step - loss: 0.0119 - accuracy: 0.9984 - val_loss: 0.0769 - val_accuracy: 0.9985\n",
            "Epoch 73/100\n",
            "557/557 [==============================] - 1s 2ms/step - loss: 0.0114 - accuracy: 0.9985 - val_loss: 0.0201 - val_accuracy: 0.9986\n",
            "Epoch 74/100\n",
            "557/557 [==============================] - 1s 2ms/step - loss: 0.0119 - accuracy: 0.9984 - val_loss: 0.1394 - val_accuracy: 0.9959\n",
            "Epoch 75/100\n",
            "557/557 [==============================] - 1s 2ms/step - loss: 0.0097 - accuracy: 0.9987 - val_loss: 0.0563 - val_accuracy: 0.9985\n",
            "Epoch 76/100\n",
            "557/557 [==============================] - 1s 2ms/step - loss: 0.0115 - accuracy: 0.9985 - val_loss: 1.2731 - val_accuracy: 0.9395\n",
            "Epoch 77/100\n",
            "557/557 [==============================] - 1s 2ms/step - loss: 0.0119 - accuracy: 0.9985 - val_loss: 0.0284 - val_accuracy: 0.9987\n",
            "Epoch 78/100\n",
            "557/557 [==============================] - 1s 2ms/step - loss: 0.0218 - accuracy: 0.9983 - val_loss: 0.0211 - val_accuracy: 0.9987\n",
            "Epoch 79/100\n",
            "557/557 [==============================] - 1s 2ms/step - loss: 0.0130 - accuracy: 0.9982 - val_loss: 0.0122 - val_accuracy: 0.9987\n",
            "Epoch 80/100\n",
            "557/557 [==============================] - 1s 2ms/step - loss: 0.0143 - accuracy: 0.9980 - val_loss: 0.0280 - val_accuracy: 0.9987\n",
            "Epoch 81/100\n",
            "557/557 [==============================] - 1s 2ms/step - loss: 0.0146 - accuracy: 0.9982 - val_loss: 0.0153 - val_accuracy: 0.9987\n",
            "Epoch 82/100\n",
            "557/557 [==============================] - 1s 2ms/step - loss: 0.0128 - accuracy: 0.9982 - val_loss: 0.0202 - val_accuracy: 0.9987\n",
            "Epoch 83/100\n",
            "557/557 [==============================] - 1s 2ms/step - loss: 0.0128 - accuracy: 0.9983 - val_loss: 0.0741 - val_accuracy: 0.9985\n",
            "Epoch 84/100\n",
            "557/557 [==============================] - 1s 2ms/step - loss: 0.5482 - accuracy: 0.9962 - val_loss: 6.5402 - val_accuracy: 0.9987\n",
            "Epoch 85/100\n",
            "557/557 [==============================] - 1s 2ms/step - loss: 0.1195 - accuracy: 0.9979 - val_loss: 1.0683 - val_accuracy: 0.9957\n",
            "Epoch 86/100\n",
            "557/557 [==============================] - 1s 2ms/step - loss: 0.0233 - accuracy: 0.9978 - val_loss: 1.7635 - val_accuracy: 0.9905\n",
            "Epoch 87/100\n",
            "557/557 [==============================] - 1s 2ms/step - loss: 0.0283 - accuracy: 0.9976 - val_loss: 1.1803 - val_accuracy: 0.9974\n",
            "Epoch 88/100\n",
            "557/557 [==============================] - 1s 2ms/step - loss: 0.0204 - accuracy: 0.9980 - val_loss: 1.1997 - val_accuracy: 0.9970\n",
            "Epoch 89/100\n",
            "557/557 [==============================] - 1s 2ms/step - loss: 0.0230 - accuracy: 0.9982 - val_loss: 1.6697 - val_accuracy: 0.9926\n",
            "Epoch 90/100\n",
            "557/557 [==============================] - 1s 2ms/step - loss: 0.0311 - accuracy: 0.9984 - val_loss: 3.9988 - val_accuracy: 0.9986\n",
            "Epoch 91/100\n",
            "557/557 [==============================] - 1s 2ms/step - loss: 0.0910 - accuracy: 0.9984 - val_loss: 1.3439 - val_accuracy: 0.9954\n",
            "Epoch 92/100\n",
            "557/557 [==============================] - 1s 2ms/step - loss: 0.0333 - accuracy: 0.9983 - val_loss: 1.7335 - val_accuracy: 0.9917\n",
            "Epoch 93/100\n",
            "557/557 [==============================] - 1s 2ms/step - loss: 0.0822 - accuracy: 0.9980 - val_loss: 1.1839 - val_accuracy: 0.9976\n",
            "Epoch 94/100\n",
            "557/557 [==============================] - 1s 2ms/step - loss: 0.0235 - accuracy: 0.9982 - val_loss: 8.0343 - val_accuracy: 0.9987\n",
            "Epoch 95/100\n",
            "557/557 [==============================] - 1s 2ms/step - loss: 0.2065 - accuracy: 0.9983 - val_loss: 2.2531 - val_accuracy: 0.9828\n",
            "Epoch 96/100\n",
            "557/557 [==============================] - 1s 2ms/step - loss: 0.0204 - accuracy: 0.9984 - val_loss: 2.4600 - val_accuracy: 0.9794\n",
            "Epoch 97/100\n",
            "557/557 [==============================] - 1s 2ms/step - loss: 0.0300 - accuracy: 0.9983 - val_loss: 2.9193 - val_accuracy: 0.9913\n",
            "Epoch 98/100\n",
            "557/557 [==============================] - 1s 2ms/step - loss: 0.0548 - accuracy: 0.9983 - val_loss: 2.4260 - val_accuracy: 0.9745\n",
            "Epoch 99/100\n",
            "557/557 [==============================] - 1s 2ms/step - loss: 0.0133 - accuracy: 0.9985 - val_loss: 3.4572 - val_accuracy: 0.9987\n",
            "Epoch 100/100\n",
            "557/557 [==============================] - 1s 2ms/step - loss: 0.0584 - accuracy: 0.9979 - val_loss: 4.7087 - val_accuracy: 0.9754\n"
          ],
          "name": "stdout"
        }
      ]
    },
    {
      "cell_type": "code",
      "metadata": {
        "colab": {
          "base_uri": "https://localhost:8080/"
        },
        "id": "hcU-l-iqC7VI",
        "outputId": "083a4982-4d07-4f18-fb8a-b992fe13706c"
      },
      "source": [
        "history.history.keys()"
      ],
      "execution_count": 42,
      "outputs": [
        {
          "output_type": "execute_result",
          "data": {
            "text/plain": [
              "dict_keys(['loss', 'accuracy', 'val_loss', 'val_accuracy'])"
            ]
          },
          "metadata": {
            "tags": []
          },
          "execution_count": 42
        }
      ]
    },
    {
      "cell_type": "code",
      "metadata": {
        "colab": {
          "base_uri": "https://localhost:8080/",
          "height": 295
        },
        "id": "zxNLfhtfEWOS",
        "outputId": "e628f9fa-45cb-4685-aa7a-add9a45c97fb"
      },
      "source": [
        "import matplotlib.pyplot as plt\n",
        "loss = history.history['loss']\n",
        "val_loss = history.history['val_loss']\n",
        "epochs = range(1, len(loss) + 1)\n",
        "#plt.plot(epochs, loss, 'bo', label='Training loss')\n",
        "plt.plot(epochs, val_loss, 'b', label='Validation loss')\n",
        "plt.title('Training and validation loss')\n",
        "plt.xlabel('Epochs')\n",
        "plt.ylabel('Loss')\n",
        "plt.legend()\n",
        "plt.show()"
      ],
      "execution_count": 46,
      "outputs": [
        {
          "output_type": "display_data",
          "data": {
            "image/png": "[encoded data removed]",
            "text/plain": [
              "<Figure size 432x288 with 1 Axes>"
            ]
          },
          "metadata": {
            "tags": [],
            "needs_background": "light"
          }
        }
      ]
    },
    {
      "cell_type": "markdown",
      "metadata": {
        "id": "cWPhB12xGOcn"
      },
      "source": [
        "Now For Experiment I am checking the model with 'tanh' activation Function  "
      ]
    },
    {
      "cell_type": "code",
      "metadata": {
        "id": "Frcz48_jEa-F"
      },
      "source": [
        "from keras import models\n",
        "from keras import layers\n",
        "model = models.Sequential()\n",
        "model.add(layers.Dense(10, activation = 'tanh', input_shape = (30,)))\n",
        "model.add(layers.Dense(8, activation = 'tanh'))\n",
        "model.add(layers.Dense(6, activation = 'tanh'))\n",
        "model.add(layers.Dense(1, activation = 'sigmoid'))\n",
        "\n",
        "model.compile(optimizer = 'adam', loss = 'binary_crossentropy', metrics = ['accuracy'])"
      ],
      "execution_count": 48,
      "outputs": []
    },
    {
      "cell_type": "code",
      "metadata": {
        "colab": {
          "base_uri": "https://localhost:8080/"
        },
        "id": "P0Kd9a2qFN0K",
        "outputId": "404b9e05-3602-4fa1-9a60-fd6e354efb93"
      },
      "source": [
        "history=model.fit(X_train, Y_train,validation_data= (X_val, Y_val),epochs=100, batch_size=256, verbose=1)"
      ],
      "execution_count": 49,
      "outputs": [
        {
          "output_type": "stream",
          "text": [
            "Epoch 1/100\n",
            "557/557 [==============================] - 2s 2ms/step - loss: 0.3425 - accuracy: 0.8963 - val_loss: 0.0170 - val_accuracy: 0.9987\n",
            "Epoch 2/100\n",
            "557/557 [==============================] - 1s 2ms/step - loss: 0.0173 - accuracy: 0.9982 - val_loss: 0.0111 - val_accuracy: 0.9987\n",
            "Epoch 3/100\n",
            "557/557 [==============================] - 1s 2ms/step - loss: 0.0138 - accuracy: 0.9982 - val_loss: 0.0104 - val_accuracy: 0.9987\n",
            "Epoch 4/100\n",
            "557/557 [==============================] - 1s 2ms/step - loss: 0.0131 - accuracy: 0.9982 - val_loss: 0.0102 - val_accuracy: 0.9987\n",
            "Epoch 5/100\n",
            "557/557 [==============================] - 1s 2ms/step - loss: 0.0150 - accuracy: 0.9979 - val_loss: 0.0101 - val_accuracy: 0.9987\n",
            "Epoch 6/100\n",
            "557/557 [==============================] - 1s 2ms/step - loss: 0.0129 - accuracy: 0.9982 - val_loss: 0.0101 - val_accuracy: 0.9987\n",
            "Epoch 7/100\n",
            "557/557 [==============================] - 1s 2ms/step - loss: 0.0143 - accuracy: 0.9980 - val_loss: 0.0101 - val_accuracy: 0.9987\n",
            "Epoch 8/100\n",
            "557/557 [==============================] - 1s 2ms/step - loss: 0.0136 - accuracy: 0.9981 - val_loss: 0.0100 - val_accuracy: 0.9987\n",
            "Epoch 9/100\n",
            "557/557 [==============================] - 1s 2ms/step - loss: 0.0135 - accuracy: 0.9981 - val_loss: 0.0100 - val_accuracy: 0.9987\n",
            "Epoch 10/100\n",
            "557/557 [==============================] - 1s 2ms/step - loss: 0.0143 - accuracy: 0.9980 - val_loss: 0.0100 - val_accuracy: 0.9987\n",
            "Epoch 11/100\n",
            "557/557 [==============================] - 1s 2ms/step - loss: 0.0127 - accuracy: 0.9983 - val_loss: 0.0100 - val_accuracy: 0.9987\n",
            "Epoch 12/100\n",
            "557/557 [==============================] - 1s 2ms/step - loss: 0.0135 - accuracy: 0.9981 - val_loss: 0.0100 - val_accuracy: 0.9987\n",
            "Epoch 13/100\n",
            "557/557 [==============================] - 1s 2ms/step - loss: 0.0132 - accuracy: 0.9982 - val_loss: 0.0101 - val_accuracy: 0.9987\n",
            "Epoch 14/100\n",
            "557/557 [==============================] - 1s 2ms/step - loss: 0.0132 - accuracy: 0.9982 - val_loss: 0.0100 - val_accuracy: 0.9987\n",
            "Epoch 15/100\n",
            "557/557 [==============================] - 1s 2ms/step - loss: 0.0141 - accuracy: 0.9980 - val_loss: 0.0100 - val_accuracy: 0.9987\n",
            "Epoch 16/100\n",
            "557/557 [==============================] - 1s 2ms/step - loss: 0.0137 - accuracy: 0.9981 - val_loss: 0.0100 - val_accuracy: 0.9987\n",
            "Epoch 17/100\n",
            "557/557 [==============================] - 1s 2ms/step - loss: 0.0141 - accuracy: 0.9980 - val_loss: 0.0101 - val_accuracy: 0.9987\n",
            "Epoch 18/100\n",
            "557/557 [==============================] - 1s 2ms/step - loss: 0.0132 - accuracy: 0.9982 - val_loss: 0.0101 - val_accuracy: 0.9987\n",
            "Epoch 19/100\n",
            "557/557 [==============================] - 1s 2ms/step - loss: 0.0141 - accuracy: 0.9980 - val_loss: 0.0100 - val_accuracy: 0.9987\n",
            "Epoch 20/100\n",
            "557/557 [==============================] - 1s 2ms/step - loss: 0.0135 - accuracy: 0.9981 - val_loss: 0.0100 - val_accuracy: 0.9987\n",
            "Epoch 21/100\n",
            "557/557 [==============================] - 1s 2ms/step - loss: 0.0145 - accuracy: 0.9980 - val_loss: 0.0100 - val_accuracy: 0.9987\n",
            "Epoch 22/100\n",
            "557/557 [==============================] - 1s 2ms/step - loss: 0.0126 - accuracy: 0.9983 - val_loss: 0.0101 - val_accuracy: 0.9987\n",
            "Epoch 23/100\n",
            "557/557 [==============================] - 1s 2ms/step - loss: 0.0143 - accuracy: 0.9980 - val_loss: 0.0101 - val_accuracy: 0.9987\n",
            "Epoch 24/100\n",
            "557/557 [==============================] - 1s 2ms/step - loss: 0.0149 - accuracy: 0.9979 - val_loss: 0.0100 - val_accuracy: 0.9987\n",
            "Epoch 25/100\n",
            "557/557 [==============================] - 1s 2ms/step - loss: 0.0141 - accuracy: 0.9980 - val_loss: 0.0101 - val_accuracy: 0.9987\n",
            "Epoch 26/100\n",
            "557/557 [==============================] - 1s 2ms/step - loss: 0.0149 - accuracy: 0.9979 - val_loss: 0.0101 - val_accuracy: 0.9987\n",
            "Epoch 27/100\n",
            "557/557 [==============================] - 1s 2ms/step - loss: 0.0133 - accuracy: 0.9982 - val_loss: 0.0101 - val_accuracy: 0.9987\n",
            "Epoch 28/100\n",
            "557/557 [==============================] - 1s 2ms/step - loss: 0.0128 - accuracy: 0.9983 - val_loss: 0.0101 - val_accuracy: 0.9987\n",
            "Epoch 29/100\n",
            "557/557 [==============================] - 1s 2ms/step - loss: 0.0125 - accuracy: 0.9983 - val_loss: 0.0100 - val_accuracy: 0.9987\n",
            "Epoch 30/100\n",
            "557/557 [==============================] - 1s 2ms/step - loss: 0.0142 - accuracy: 0.9980 - val_loss: 0.0100 - val_accuracy: 0.9987\n",
            "Epoch 31/100\n",
            "557/557 [==============================] - 1s 2ms/step - loss: 0.0138 - accuracy: 0.9981 - val_loss: 0.0100 - val_accuracy: 0.9987\n",
            "Epoch 32/100\n",
            "557/557 [==============================] - 1s 2ms/step - loss: 0.0137 - accuracy: 0.9981 - val_loss: 0.0100 - val_accuracy: 0.9987\n",
            "Epoch 33/100\n",
            "557/557 [==============================] - 1s 2ms/step - loss: 0.0137 - accuracy: 0.9981 - val_loss: 0.0100 - val_accuracy: 0.9987\n",
            "Epoch 34/100\n",
            "557/557 [==============================] - 1s 2ms/step - loss: 0.0138 - accuracy: 0.9981 - val_loss: 0.0100 - val_accuracy: 0.9987\n",
            "Epoch 35/100\n",
            "557/557 [==============================] - 1s 2ms/step - loss: 0.0140 - accuracy: 0.9981 - val_loss: 0.0100 - val_accuracy: 0.9987\n",
            "Epoch 36/100\n",
            "557/557 [==============================] - 1s 2ms/step - loss: 0.0130 - accuracy: 0.9982 - val_loss: 0.0100 - val_accuracy: 0.9987\n",
            "Epoch 37/100\n",
            "557/557 [==============================] - 1s 2ms/step - loss: 0.0144 - accuracy: 0.9980 - val_loss: 0.0100 - val_accuracy: 0.9987\n",
            "Epoch 38/100\n",
            "557/557 [==============================] - 1s 2ms/step - loss: 0.0143 - accuracy: 0.9980 - val_loss: 0.0100 - val_accuracy: 0.9987\n",
            "Epoch 39/100\n",
            "557/557 [==============================] - 1s 2ms/step - loss: 0.0125 - accuracy: 0.9983 - val_loss: 0.0101 - val_accuracy: 0.9987\n",
            "Epoch 40/100\n",
            "557/557 [==============================] - 1s 2ms/step - loss: 0.0139 - accuracy: 0.9981 - val_loss: 0.0101 - val_accuracy: 0.9987\n",
            "Epoch 41/100\n",
            "557/557 [==============================] - 1s 2ms/step - loss: 0.0138 - accuracy: 0.9981 - val_loss: 0.0101 - val_accuracy: 0.9987\n",
            "Epoch 42/100\n",
            "557/557 [==============================] - 1s 2ms/step - loss: 0.0138 - accuracy: 0.9981 - val_loss: 0.0101 - val_accuracy: 0.9987\n",
            "Epoch 43/100\n",
            "557/557 [==============================] - 1s 2ms/step - loss: 0.0145 - accuracy: 0.9980 - val_loss: 0.0101 - val_accuracy: 0.9987\n",
            "Epoch 44/100\n",
            "557/557 [==============================] - 1s 2ms/step - loss: 0.0130 - accuracy: 0.9982 - val_loss: 0.0101 - val_accuracy: 0.9987\n",
            "Epoch 45/100\n",
            "557/557 [==============================] - 1s 2ms/step - loss: 0.0129 - accuracy: 0.9982 - val_loss: 0.0101 - val_accuracy: 0.9987\n",
            "Epoch 46/100\n",
            "557/557 [==============================] - 1s 2ms/step - loss: 0.0135 - accuracy: 0.9981 - val_loss: 0.0101 - val_accuracy: 0.9987\n",
            "Epoch 47/100\n",
            "557/557 [==============================] - 1s 2ms/step - loss: 0.0132 - accuracy: 0.9982 - val_loss: 0.0101 - val_accuracy: 0.9987\n",
            "Epoch 48/100\n",
            "557/557 [==============================] - 1s 2ms/step - loss: 0.0148 - accuracy: 0.9979 - val_loss: 0.0101 - val_accuracy: 0.9987\n",
            "Epoch 49/100\n",
            "557/557 [==============================] - 1s 2ms/step - loss: 0.0128 - accuracy: 0.9983 - val_loss: 0.0101 - val_accuracy: 0.9987\n",
            "Epoch 50/100\n",
            "557/557 [==============================] - 1s 2ms/step - loss: 0.0150 - accuracy: 0.9979 - val_loss: 0.0100 - val_accuracy: 0.9987\n",
            "Epoch 51/100\n",
            "557/557 [==============================] - 1s 2ms/step - loss: 0.0143 - accuracy: 0.9980 - val_loss: 0.0101 - val_accuracy: 0.9987\n",
            "Epoch 52/100\n",
            "557/557 [==============================] - 1s 2ms/step - loss: 0.0130 - accuracy: 0.9982 - val_loss: 0.0101 - val_accuracy: 0.9987\n",
            "Epoch 53/100\n",
            "557/557 [==============================] - 1s 2ms/step - loss: 0.0151 - accuracy: 0.9979 - val_loss: 0.0101 - val_accuracy: 0.9987\n",
            "Epoch 54/100\n",
            "557/557 [==============================] - 1s 2ms/step - loss: 0.0138 - accuracy: 0.9981 - val_loss: 0.0101 - val_accuracy: 0.9987\n",
            "Epoch 55/100\n",
            "557/557 [==============================] - 1s 2ms/step - loss: 0.0138 - accuracy: 0.9981 - val_loss: 0.0101 - val_accuracy: 0.9987\n",
            "Epoch 56/100\n",
            "557/557 [==============================] - 1s 2ms/step - loss: 0.0137 - accuracy: 0.9981 - val_loss: 0.0100 - val_accuracy: 0.9987\n",
            "Epoch 57/100\n",
            "557/557 [==============================] - 1s 2ms/step - loss: 0.0138 - accuracy: 0.9981 - val_loss: 0.0101 - val_accuracy: 0.9987\n",
            "Epoch 58/100\n",
            "557/557 [==============================] - 1s 2ms/step - loss: 0.0146 - accuracy: 0.9980 - val_loss: 0.0100 - val_accuracy: 0.9987\n",
            "Epoch 59/100\n",
            "557/557 [==============================] - 1s 2ms/step - loss: 0.0131 - accuracy: 0.9982 - val_loss: 0.0100 - val_accuracy: 0.9987\n",
            "Epoch 60/100\n",
            "557/557 [==============================] - 1s 2ms/step - loss: 0.0143 - accuracy: 0.9980 - val_loss: 0.0100 - val_accuracy: 0.9987\n",
            "Epoch 61/100\n",
            "557/557 [==============================] - 1s 2ms/step - loss: 0.0137 - accuracy: 0.9981 - val_loss: 0.0100 - val_accuracy: 0.9987\n",
            "Epoch 62/100\n",
            "557/557 [==============================] - 1s 2ms/step - loss: 0.0153 - accuracy: 0.9979 - val_loss: 0.0101 - val_accuracy: 0.9987\n",
            "Epoch 63/100\n",
            "557/557 [==============================] - 1s 2ms/step - loss: 0.0139 - accuracy: 0.9981 - val_loss: 0.0100 - val_accuracy: 0.9987\n",
            "Epoch 64/100\n",
            "557/557 [==============================] - 1s 2ms/step - loss: 0.0133 - accuracy: 0.9982 - val_loss: 0.0100 - val_accuracy: 0.9987\n",
            "Epoch 65/100\n",
            "557/557 [==============================] - 1s 2ms/step - loss: 0.0151 - accuracy: 0.9979 - val_loss: 0.0100 - val_accuracy: 0.9987\n",
            "Epoch 66/100\n",
            "557/557 [==============================] - 1s 2ms/step - loss: 0.0132 - accuracy: 0.9982 - val_loss: 0.0100 - val_accuracy: 0.9987\n",
            "Epoch 67/100\n",
            "557/557 [==============================] - 1s 2ms/step - loss: 0.0134 - accuracy: 0.9982 - val_loss: 0.0101 - val_accuracy: 0.9987\n",
            "Epoch 68/100\n",
            "557/557 [==============================] - 1s 2ms/step - loss: 0.0127 - accuracy: 0.9983 - val_loss: 0.0101 - val_accuracy: 0.9987\n",
            "Epoch 69/100\n",
            "557/557 [==============================] - 1s 2ms/step - loss: 0.0135 - accuracy: 0.9981 - val_loss: 0.0101 - val_accuracy: 0.9987\n",
            "Epoch 70/100\n",
            "557/557 [==============================] - 1s 2ms/step - loss: 0.0135 - accuracy: 0.9981 - val_loss: 0.0100 - val_accuracy: 0.9987\n",
            "Epoch 71/100\n",
            "557/557 [==============================] - 1s 2ms/step - loss: 0.0123 - accuracy: 0.9983 - val_loss: 0.0101 - val_accuracy: 0.9987\n",
            "Epoch 72/100\n",
            "557/557 [==============================] - 1s 2ms/step - loss: 0.0132 - accuracy: 0.9982 - val_loss: 0.0100 - val_accuracy: 0.9987\n",
            "Epoch 73/100\n",
            "557/557 [==============================] - 1s 2ms/step - loss: 0.0131 - accuracy: 0.9982 - val_loss: 0.0100 - val_accuracy: 0.9987\n",
            "Epoch 74/100\n",
            "557/557 [==============================] - 1s 2ms/step - loss: 0.0151 - accuracy: 0.9979 - val_loss: 0.0100 - val_accuracy: 0.9987\n",
            "Epoch 75/100\n",
            "557/557 [==============================] - 1s 2ms/step - loss: 0.0145 - accuracy: 0.9980 - val_loss: 0.0100 - val_accuracy: 0.9987\n",
            "Epoch 76/100\n",
            "557/557 [==============================] - 1s 2ms/step - loss: 0.0142 - accuracy: 0.9980 - val_loss: 0.0100 - val_accuracy: 0.9987\n",
            "Epoch 77/100\n",
            "557/557 [==============================] - 1s 2ms/step - loss: 0.0142 - accuracy: 0.9980 - val_loss: 0.0100 - val_accuracy: 0.9987\n",
            "Epoch 78/100\n",
            "557/557 [==============================] - 1s 2ms/step - loss: 0.0150 - accuracy: 0.9979 - val_loss: 0.0100 - val_accuracy: 0.9987\n",
            "Epoch 79/100\n",
            "557/557 [==============================] - 1s 2ms/step - loss: 0.0128 - accuracy: 0.9982 - val_loss: 0.0100 - val_accuracy: 0.9987\n",
            "Epoch 80/100\n",
            "557/557 [==============================] - 1s 2ms/step - loss: 0.0134 - accuracy: 0.9982 - val_loss: 0.0100 - val_accuracy: 0.9987\n",
            "Epoch 81/100\n",
            "557/557 [==============================] - 1s 2ms/step - loss: 0.0130 - accuracy: 0.9982 - val_loss: 0.0100 - val_accuracy: 0.9987\n",
            "Epoch 82/100\n",
            "557/557 [==============================] - 1s 2ms/step - loss: 0.0139 - accuracy: 0.9981 - val_loss: 0.0101 - val_accuracy: 0.9987\n",
            "Epoch 83/100\n",
            "557/557 [==============================] - 1s 2ms/step - loss: 0.0139 - accuracy: 0.9981 - val_loss: 0.0100 - val_accuracy: 0.9987\n",
            "Epoch 84/100\n",
            "557/557 [==============================] - 1s 2ms/step - loss: 0.0144 - accuracy: 0.9980 - val_loss: 0.0100 - val_accuracy: 0.9987\n",
            "Epoch 85/100\n",
            "557/557 [==============================] - 1s 2ms/step - loss: 0.0141 - accuracy: 0.9980 - val_loss: 0.0100 - val_accuracy: 0.9987\n",
            "Epoch 86/100\n",
            "557/557 [==============================] - 1s 2ms/step - loss: 0.0139 - accuracy: 0.9981 - val_loss: 0.0100 - val_accuracy: 0.9987\n",
            "Epoch 87/100\n",
            "557/557 [==============================] - 1s 2ms/step - loss: 0.0150 - accuracy: 0.9979 - val_loss: 0.0100 - val_accuracy: 0.9987\n",
            "Epoch 88/100\n",
            "557/557 [==============================] - 1s 2ms/step - loss: 0.0137 - accuracy: 0.9981 - val_loss: 0.0100 - val_accuracy: 0.9987\n",
            "Epoch 89/100\n",
            "557/557 [==============================] - 1s 2ms/step - loss: 0.0131 - accuracy: 0.9982 - val_loss: 0.0101 - val_accuracy: 0.9987\n",
            "Epoch 90/100\n",
            "557/557 [==============================] - 1s 2ms/step - loss: 0.0142 - accuracy: 0.9980 - val_loss: 0.0101 - val_accuracy: 0.9987\n",
            "Epoch 91/100\n",
            "557/557 [==============================] - 1s 2ms/step - loss: 0.0149 - accuracy: 0.9979 - val_loss: 0.0100 - val_accuracy: 0.9987\n",
            "Epoch 92/100\n",
            "557/557 [==============================] - 1s 2ms/step - loss: 0.0135 - accuracy: 0.9981 - val_loss: 0.0100 - val_accuracy: 0.9987\n",
            "Epoch 93/100\n",
            "557/557 [==============================] - 1s 2ms/step - loss: 0.0126 - accuracy: 0.9983 - val_loss: 0.0101 - val_accuracy: 0.9987\n",
            "Epoch 94/100\n",
            "557/557 [==============================] - 1s 2ms/step - loss: 0.0139 - accuracy: 0.9981 - val_loss: 0.0101 - val_accuracy: 0.9987\n",
            "Epoch 95/100\n",
            "557/557 [==============================] - 1s 2ms/step - loss: 0.0141 - accuracy: 0.9980 - val_loss: 0.0101 - val_accuracy: 0.9987\n",
            "Epoch 96/100\n",
            "557/557 [==============================] - 1s 2ms/step - loss: 0.0130 - accuracy: 0.9982 - val_loss: 0.0101 - val_accuracy: 0.9987\n",
            "Epoch 97/100\n",
            "557/557 [==============================] - 1s 2ms/step - loss: 0.0127 - accuracy: 0.9983 - val_loss: 0.0101 - val_accuracy: 0.9987\n",
            "Epoch 98/100\n",
            "557/557 [==============================] - 1s 2ms/step - loss: 0.0145 - accuracy: 0.9980 - val_loss: 0.0101 - val_accuracy: 0.9987\n",
            "Epoch 99/100\n",
            "557/557 [==============================] - 1s 2ms/step - loss: 0.0152 - accuracy: 0.9979 - val_loss: 0.0100 - val_accuracy: 0.9987\n",
            "Epoch 100/100\n",
            "557/557 [==============================] - 1s 2ms/step - loss: 0.0143 - accuracy: 0.9980 - val_loss: 0.0100 - val_accuracy: 0.9987\n"
          ],
          "name": "stdout"
        }
      ]
    },
    {
      "cell_type": "code",
      "metadata": {
        "colab": {
          "base_uri": "https://localhost:8080/"
        },
        "id": "DVZml9QEFTsW",
        "outputId": "7fb4b7d1-056a-4110-a8e7-eb2ef9664ab2"
      },
      "source": [
        "history.history.keys()"
      ],
      "execution_count": 50,
      "outputs": [
        {
          "output_type": "execute_result",
          "data": {
            "text/plain": [
              "dict_keys(['loss', 'accuracy', 'val_loss', 'val_accuracy'])"
            ]
          },
          "metadata": {
            "tags": []
          },
          "execution_count": 50
        }
      ]
    },
    {
      "cell_type": "code",
      "metadata": {
        "colab": {
          "base_uri": "https://localhost:8080/",
          "height": 295
        },
        "id": "3hR_7UJrGJfS",
        "outputId": "13c4e77d-cb90-46db-c164-33e29054c41a"
      },
      "source": [
        "import matplotlib.pyplot as plt\n",
        "loss = history.history['loss']\n",
        "val_loss = history.history['val_loss']\n",
        "epochs = range(1, len(loss) + 1)\n",
        "plt.plot(epochs, loss, 'bo', label='Training loss')\n",
        "plt.plot(epochs, val_loss, 'b', label='Validation loss')\n",
        "plt.title('Training and validation loss')\n",
        "plt.xlabel('Epochs')\n",
        "plt.ylabel('Loss')\n",
        "plt.legend()\n",
        "plt.show()"
      ],
      "execution_count": 51,
      "outputs": [
        {
          "output_type": "display_data",
          "data": {
            "image/png": "[encoded data removed]",
            "text/plain": [
              "<Figure size 432x288 with 1 Axes>"
            ]
          },
          "metadata": {
            "tags": [],
            "needs_background": "light"
          }
        }
      ]
    },
    {
      "cell_type": "markdown",
      "metadata": {
        "id": "llaVa6AiGxOX"
      },
      "source": [
        "## **Again I am going to train model with less epochs and by lessing the number of layers**"
      ]
    },
    {
      "cell_type": "code",
      "metadata": {
        "id": "3pTbDBCxGrLP"
      },
      "source": [
        "from keras import models\n",
        "from keras import layers\n",
        "model = models.Sequential()\n",
        "model.add(layers.Dense(10, activation = 'relu', input_shape = (30,)))\n",
        "model.add(layers.Dense(8, activation = 'relu'))\n",
        "model.add(layers.Dense(1, activation = 'sigmoid'))\n",
        "\n",
        "model.compile(optimizer = 'adam', loss = 'binary_crossentropy', metrics = ['accuracy'])"
      ],
      "execution_count": 52,
      "outputs": []
    },
    {
      "cell_type": "code",
      "metadata": {
        "colab": {
          "base_uri": "https://localhost:8080/"
        },
        "id": "V1lMCmnoHRHW",
        "outputId": "8a9b90da-e5a0-4871-ecea-8c01d83fcc4b"
      },
      "source": [
        "history=model.fit(X_train, Y_train,validation_data= (X_val, Y_val),epochs=40, batch_size=512, verbose=1)"
      ],
      "execution_count": 53,
      "outputs": [
        {
          "output_type": "stream",
          "text": [
            "Epoch 1/40\n",
            "279/279 [==============================] - 1s 2ms/step - loss: 3.1416 - accuracy: 0.9974 - val_loss: 8.0839 - val_accuracy: 0.9987\n",
            "Epoch 2/40\n",
            "279/279 [==============================] - 1s 2ms/step - loss: 0.2964 - accuracy: 0.9982 - val_loss: 1.0270 - val_accuracy: 0.9987\n",
            "Epoch 3/40\n",
            "279/279 [==============================] - 1s 2ms/step - loss: 0.0546 - accuracy: 0.9980 - val_loss: 0.3653 - val_accuracy: 0.9987\n",
            "Epoch 4/40\n",
            "279/279 [==============================] - 1s 2ms/step - loss: 0.0379 - accuracy: 0.9980 - val_loss: 0.1586 - val_accuracy: 0.9987\n",
            "Epoch 5/40\n",
            "279/279 [==============================] - 1s 2ms/step - loss: 0.0443 - accuracy: 0.9982 - val_loss: 0.4005 - val_accuracy: 0.9987\n",
            "Epoch 6/40\n",
            "279/279 [==============================] - 1s 2ms/step - loss: 0.0266 - accuracy: 0.9979 - val_loss: 0.1377 - val_accuracy: 0.9987\n",
            "Epoch 7/40\n",
            "279/279 [==============================] - 1s 2ms/step - loss: 0.0392 - accuracy: 0.9981 - val_loss: 0.1290 - val_accuracy: 0.9987\n",
            "Epoch 8/40\n",
            "279/279 [==============================] - 1s 2ms/step - loss: 0.0255 - accuracy: 0.9982 - val_loss: 0.0446 - val_accuracy: 0.9987\n",
            "Epoch 9/40\n",
            "279/279 [==============================] - 1s 2ms/step - loss: 0.0152 - accuracy: 0.9984 - val_loss: 0.0931 - val_accuracy: 0.9987\n",
            "Epoch 10/40\n",
            "279/279 [==============================] - 1s 2ms/step - loss: 0.0160 - accuracy: 0.9983 - val_loss: 0.0370 - val_accuracy: 0.9987\n",
            "Epoch 11/40\n",
            "279/279 [==============================] - 1s 2ms/step - loss: 0.0185 - accuracy: 0.9983 - val_loss: 0.0885 - val_accuracy: 0.9987\n",
            "Epoch 12/40\n",
            "279/279 [==============================] - 1s 2ms/step - loss: 0.0129 - accuracy: 0.9985 - val_loss: 0.0726 - val_accuracy: 0.9987\n",
            "Epoch 13/40\n",
            "279/279 [==============================] - 1s 2ms/step - loss: 0.0134 - accuracy: 0.9984 - val_loss: 0.0563 - val_accuracy: 0.9987\n",
            "Epoch 14/40\n",
            "279/279 [==============================] - 1s 2ms/step - loss: 0.0263 - accuracy: 0.9983 - val_loss: 0.0843 - val_accuracy: 0.9987\n",
            "Epoch 15/40\n",
            "279/279 [==============================] - 1s 2ms/step - loss: 0.0657 - accuracy: 0.9984 - val_loss: 0.0838 - val_accuracy: 0.9985\n",
            "Epoch 16/40\n",
            "279/279 [==============================] - 1s 2ms/step - loss: 0.0143 - accuracy: 0.9984 - val_loss: 0.1489 - val_accuracy: 0.9985\n",
            "Epoch 17/40\n",
            "279/279 [==============================] - 1s 2ms/step - loss: 0.0182 - accuracy: 0.9984 - val_loss: 0.2659 - val_accuracy: 0.9874\n",
            "Epoch 18/40\n",
            "279/279 [==============================] - 1s 2ms/step - loss: 0.0135 - accuracy: 0.9986 - val_loss: 0.1156 - val_accuracy: 0.9971\n",
            "Epoch 19/40\n",
            "279/279 [==============================] - 1s 2ms/step - loss: 0.0112 - accuracy: 0.9984 - val_loss: 0.2535 - val_accuracy: 0.9881\n",
            "Epoch 20/40\n",
            "279/279 [==============================] - 1s 2ms/step - loss: 0.0138 - accuracy: 0.9984 - val_loss: 0.1534 - val_accuracy: 0.9973\n",
            "Epoch 21/40\n",
            "279/279 [==============================] - 1s 2ms/step - loss: 0.0301 - accuracy: 0.9984 - val_loss: 0.4178 - val_accuracy: 0.9825\n",
            "Epoch 22/40\n",
            "279/279 [==============================] - 1s 2ms/step - loss: 0.0230 - accuracy: 0.9985 - val_loss: 0.1735 - val_accuracy: 0.9973\n",
            "Epoch 23/40\n",
            "279/279 [==============================] - 1s 2ms/step - loss: 0.0197 - accuracy: 0.9986 - val_loss: 0.3922 - val_accuracy: 0.9862\n",
            "Epoch 24/40\n",
            "279/279 [==============================] - 1s 2ms/step - loss: 0.0177 - accuracy: 0.9985 - val_loss: 0.2173 - val_accuracy: 0.9963\n",
            "Epoch 25/40\n",
            "279/279 [==============================] - 1s 2ms/step - loss: 0.0157 - accuracy: 0.9986 - val_loss: 2.4330 - val_accuracy: 0.7911\n",
            "Epoch 26/40\n",
            "279/279 [==============================] - 1s 2ms/step - loss: 0.0160 - accuracy: 0.9985 - val_loss: 0.9350 - val_accuracy: 0.9987\n",
            "Epoch 27/40\n",
            "279/279 [==============================] - 1s 2ms/step - loss: 0.0305 - accuracy: 0.9981 - val_loss: 0.3775 - val_accuracy: 0.9877\n",
            "Epoch 28/40\n",
            "279/279 [==============================] - 1s 2ms/step - loss: 0.0138 - accuracy: 0.9983 - val_loss: 0.3471 - val_accuracy: 0.9905\n",
            "Epoch 29/40\n",
            "279/279 [==============================] - 1s 2ms/step - loss: 0.0134 - accuracy: 0.9984 - val_loss: 0.8252 - val_accuracy: 0.9690\n",
            "Epoch 30/40\n",
            "279/279 [==============================] - 1s 2ms/step - loss: 0.0124 - accuracy: 0.9984 - val_loss: 2.2602 - val_accuracy: 0.8378\n",
            "Epoch 31/40\n",
            "279/279 [==============================] - 1s 2ms/step - loss: 0.0118 - accuracy: 0.9985 - val_loss: 4.4444 - val_accuracy: 0.2680\n",
            "Epoch 32/40\n",
            "279/279 [==============================] - 1s 2ms/step - loss: 0.0113 - accuracy: 0.9986 - val_loss: 1.0186 - val_accuracy: 0.9607\n",
            "Epoch 33/40\n",
            "279/279 [==============================] - 1s 2ms/step - loss: 0.0150 - accuracy: 0.9985 - val_loss: 0.3390 - val_accuracy: 0.9932\n",
            "Epoch 34/40\n",
            "279/279 [==============================] - 1s 2ms/step - loss: 0.0112 - accuracy: 0.9985 - val_loss: 0.9384 - val_accuracy: 0.9687\n",
            "Epoch 35/40\n",
            "279/279 [==============================] - 1s 2ms/step - loss: 0.0114 - accuracy: 0.9985 - val_loss: 2.4487 - val_accuracy: 0.8677\n",
            "Epoch 36/40\n",
            "279/279 [==============================] - 1s 2ms/step - loss: 0.0112 - accuracy: 0.9984 - val_loss: 2.4692 - val_accuracy: 0.8725\n",
            "Epoch 37/40\n",
            "279/279 [==============================] - 1s 2ms/step - loss: 0.0123 - accuracy: 0.9984 - val_loss: 0.3309 - val_accuracy: 0.9957\n",
            "Epoch 38/40\n",
            "279/279 [==============================] - 1s 2ms/step - loss: 0.0139 - accuracy: 0.9982 - val_loss: 0.8542 - val_accuracy: 0.9812\n",
            "Epoch 39/40\n",
            "279/279 [==============================] - 1s 2ms/step - loss: 0.0103 - accuracy: 0.9986 - val_loss: 2.7103 - val_accuracy: 0.8816\n",
            "Epoch 40/40\n",
            "279/279 [==============================] - 1s 2ms/step - loss: 0.0102 - accuracy: 0.9986 - val_loss: 1.1900 - val_accuracy: 0.9704\n"
          ],
          "name": "stdout"
        }
      ]
    },
    {
      "cell_type": "code",
      "metadata": {
        "colab": {
          "base_uri": "https://localhost:8080/",
          "height": 295
        },
        "id": "cjXyYFH9Hquc",
        "outputId": "d6469d1b-e152-4c88-d07b-9f29d8dd13db"
      },
      "source": [
        "import matplotlib.pyplot as plt\n",
        "loss = history.history['loss']\n",
        "val_loss = history.history['val_loss']\n",
        "epochs = range(1, len(loss) + 1)\n",
        "plt.plot(epochs, loss, 'bo', label='Training loss')\n",
        "plt.plot(epochs, val_loss, 'b', label='Validation loss')\n",
        "plt.title('Training and validation loss')\n",
        "plt.xlabel('Epochs')\n",
        "plt.ylabel('Loss')\n",
        "plt.legend()\n",
        "plt.show()"
      ],
      "execution_count": 54,
      "outputs": [
        {
          "output_type": "display_data",
          "data": {
            "image/png": "[encoded data removed]",
            "text/plain": [
              "<Figure size 432x288 with 1 Axes>"
            ]
          },
          "metadata": {
            "tags": [],
            "needs_background": "light"
          }
        }
      ]
    },
    {
      "cell_type": "markdown",
      "metadata": {
        "id": "N9beEE6sIUH3"
      },
      "source": [
        "# **Retraining the model with Regularizer Included**"
      ]
    },
    {
      "cell_type": "code",
      "metadata": {
        "id": "qFuIrPkhH1mp"
      },
      "source": [
        "from keras import models\n",
        "from keras import layers\n",
        "from keras import regularizers\n",
        "model = models.Sequential()\n",
        "model.add(layers.Dense(10, activation = 'relu', kernel_regularizer= regularizers.l2(0.001), input_shape = (30,)))\n",
        "model.add(layers.Dense(8, activation = 'relu', kernel_regularizer= regularizers.l2(0.001)))\n",
        "model.add(layers.Dense(1, activation = 'sigmoid'))\n",
        "\n",
        "model.compile(optimizer = 'adam', loss = 'binary_crossentropy', metrics = ['accuracy'])"
      ],
      "execution_count": 55,
      "outputs": []
    },
    {
      "cell_type": "code",
      "metadata": {
        "colab": {
          "base_uri": "https://localhost:8080/"
        },
        "id": "CwkXOQ-QKBMp",
        "outputId": "5eb96d6d-440e-417e-fbaf-08a767598579"
      },
      "source": [
        "history=model.fit(X_train, Y_train,validation_data= (X_val, Y_val),epochs=40, batch_size=512, verbose=1)"
      ],
      "execution_count": 56,
      "outputs": [
        {
          "output_type": "stream",
          "text": [
            "Epoch 1/40\n",
            "279/279 [==============================] - 1s 3ms/step - loss: 554.2802 - accuracy: 0.5982 - val_loss: 5.0117 - val_accuracy: 0.9987\n",
            "Epoch 2/40\n",
            "279/279 [==============================] - 1s 2ms/step - loss: 1.0352 - accuracy: 0.9981 - val_loss: 4.4276 - val_accuracy: 0.9987\n",
            "Epoch 3/40\n",
            "279/279 [==============================] - 1s 2ms/step - loss: 0.9722 - accuracy: 0.9978 - val_loss: 3.6153 - val_accuracy: 0.9987\n",
            "Epoch 4/40\n",
            "279/279 [==============================] - 1s 2ms/step - loss: 0.6198 - accuracy: 0.9978 - val_loss: 2.6408 - val_accuracy: 0.9987\n",
            "Epoch 5/40\n",
            "279/279 [==============================] - 1s 2ms/step - loss: 0.2189 - accuracy: 0.9978 - val_loss: 1.6014 - val_accuracy: 0.9987\n",
            "Epoch 6/40\n",
            "279/279 [==============================] - 1s 2ms/step - loss: 0.1028 - accuracy: 0.9982 - val_loss: 0.4882 - val_accuracy: 0.9987\n",
            "Epoch 7/40\n",
            "279/279 [==============================] - 1s 2ms/step - loss: 0.0519 - accuracy: 0.9982 - val_loss: 0.2387 - val_accuracy: 0.9987\n",
            "Epoch 8/40\n",
            "279/279 [==============================] - 1s 2ms/step - loss: 0.0490 - accuracy: 0.9984 - val_loss: 0.2487 - val_accuracy: 0.9987\n",
            "Epoch 9/40\n",
            "279/279 [==============================] - 1s 2ms/step - loss: 0.3747 - accuracy: 0.9910 - val_loss: 0.1759 - val_accuracy: 0.9987\n",
            "Epoch 10/40\n",
            "279/279 [==============================] - 1s 2ms/step - loss: 0.0460 - accuracy: 0.9985 - val_loss: 0.1723 - val_accuracy: 0.9987\n",
            "Epoch 11/40\n",
            "279/279 [==============================] - 1s 2ms/step - loss: 0.0399 - accuracy: 0.9986 - val_loss: 0.1245 - val_accuracy: 0.9986\n",
            "Epoch 12/40\n",
            "279/279 [==============================] - 1s 2ms/step - loss: 0.0405 - accuracy: 0.9984 - val_loss: 0.1096 - val_accuracy: 0.9985\n",
            "Epoch 13/40\n",
            "279/279 [==============================] - 1s 2ms/step - loss: 0.0344 - accuracy: 0.9986 - val_loss: 0.1001 - val_accuracy: 0.9985\n",
            "Epoch 14/40\n",
            "279/279 [==============================] - 1s 2ms/step - loss: 0.2622 - accuracy: 0.9967 - val_loss: 0.1929 - val_accuracy: 0.9987\n",
            "Epoch 15/40\n",
            "279/279 [==============================] - 1s 2ms/step - loss: 0.1915 - accuracy: 0.9984 - val_loss: 0.1020 - val_accuracy: 0.9985\n",
            "Epoch 16/40\n",
            "279/279 [==============================] - 1s 2ms/step - loss: 0.0322 - accuracy: 0.9987 - val_loss: 0.1088 - val_accuracy: 0.9986\n",
            "Epoch 17/40\n",
            "279/279 [==============================] - 1s 2ms/step - loss: 0.0301 - accuracy: 0.9986 - val_loss: 0.1574 - val_accuracy: 0.9987\n",
            "Epoch 18/40\n",
            "279/279 [==============================] - 1s 2ms/step - loss: 0.0293 - accuracy: 0.9986 - val_loss: 0.0692 - val_accuracy: 0.9987\n",
            "Epoch 19/40\n",
            "279/279 [==============================] - 1s 2ms/step - loss: 0.0447 - accuracy: 0.9983 - val_loss: 0.0908 - val_accuracy: 0.9986\n",
            "Epoch 20/40\n",
            "279/279 [==============================] - 1s 2ms/step - loss: 0.0365 - accuracy: 0.9985 - val_loss: 0.1813 - val_accuracy: 0.9987\n",
            "Epoch 21/40\n",
            "279/279 [==============================] - 1s 2ms/step - loss: 0.1729 - accuracy: 0.9977 - val_loss: 0.1462 - val_accuracy: 0.9986\n",
            "Epoch 22/40\n",
            "279/279 [==============================] - 1s 2ms/step - loss: 0.0982 - accuracy: 0.9981 - val_loss: 0.0392 - val_accuracy: 0.9984\n",
            "Epoch 23/40\n",
            "279/279 [==============================] - 1s 2ms/step - loss: 0.0467 - accuracy: 0.9986 - val_loss: 1.1902 - val_accuracy: 0.9987\n",
            "Epoch 24/40\n",
            "279/279 [==============================] - 1s 2ms/step - loss: 0.1229 - accuracy: 0.9982 - val_loss: 0.3577 - val_accuracy: 0.9986\n",
            "Epoch 25/40\n",
            "279/279 [==============================] - 1s 2ms/step - loss: 0.1045 - accuracy: 0.9985 - val_loss: 10.7084 - val_accuracy: 0.9987\n",
            "Epoch 26/40\n",
            "279/279 [==============================] - 1s 2ms/step - loss: 0.5921 - accuracy: 0.9981 - val_loss: 5.0455 - val_accuracy: 0.9987\n",
            "Epoch 27/40\n",
            "279/279 [==============================] - 1s 2ms/step - loss: 0.1812 - accuracy: 0.9985 - val_loss: 0.0612 - val_accuracy: 0.9972\n",
            "Epoch 28/40\n",
            "279/279 [==============================] - 1s 2ms/step - loss: 0.2066 - accuracy: 0.9986 - val_loss: 0.0687 - val_accuracy: 0.9987\n",
            "Epoch 29/40\n",
            "279/279 [==============================] - 1s 2ms/step - loss: 0.0258 - accuracy: 0.9985 - val_loss: 0.0656 - val_accuracy: 0.9985\n",
            "Epoch 30/40\n",
            "279/279 [==============================] - 1s 2ms/step - loss: 0.0219 - accuracy: 0.9987 - val_loss: 0.0611 - val_accuracy: 0.9987\n",
            "Epoch 31/40\n",
            "279/279 [==============================] - 1s 2ms/step - loss: 0.0895 - accuracy: 0.9982 - val_loss: 0.0708 - val_accuracy: 0.9985\n",
            "Epoch 32/40\n",
            "279/279 [==============================] - 1s 2ms/step - loss: 0.0291 - accuracy: 0.9987 - val_loss: 0.3691 - val_accuracy: 0.9987\n",
            "Epoch 33/40\n",
            "279/279 [==============================] - 1s 2ms/step - loss: 0.1468 - accuracy: 0.9979 - val_loss: 6.0328 - val_accuracy: 0.9987\n",
            "Epoch 34/40\n",
            "279/279 [==============================] - 1s 2ms/step - loss: 0.1808 - accuracy: 0.9985 - val_loss: 0.1576 - val_accuracy: 0.9986\n",
            "Epoch 35/40\n",
            "279/279 [==============================] - 1s 2ms/step - loss: 0.0583 - accuracy: 0.9984 - val_loss: 0.1080 - val_accuracy: 0.9987\n",
            "Epoch 36/40\n",
            "279/279 [==============================] - 1s 2ms/step - loss: 0.1842 - accuracy: 0.9979 - val_loss: 4.9650 - val_accuracy: 0.9987\n",
            "Epoch 37/40\n",
            "279/279 [==============================] - 1s 2ms/step - loss: 0.2045 - accuracy: 0.9983 - val_loss: 0.1614 - val_accuracy: 0.9987\n",
            "Epoch 38/40\n",
            "279/279 [==============================] - 1s 2ms/step - loss: 0.0363 - accuracy: 0.9986 - val_loss: 0.1295 - val_accuracy: 0.9987\n",
            "Epoch 39/40\n",
            "279/279 [==============================] - 1s 2ms/step - loss: 0.0248 - accuracy: 0.9985 - val_loss: 0.0462 - val_accuracy: 0.9985\n",
            "Epoch 40/40\n",
            "279/279 [==============================] - 1s 2ms/step - loss: 0.0746 - accuracy: 0.9984 - val_loss: 4.5256 - val_accuracy: 0.9987\n"
          ],
          "name": "stdout"
        }
      ]
    },
    {
      "cell_type": "code",
      "metadata": {
        "colab": {
          "base_uri": "https://localhost:8080/",
          "height": 295
        },
        "id": "TKe7DWgXKOX8",
        "outputId": "cf3750af-5a77-4bbe-f5c7-8d48c5bda6c1"
      },
      "source": [
        "import matplotlib.pyplot as plt\n",
        "loss = history.history['loss']\n",
        "val_loss = history.history['val_loss']\n",
        "epochs = range(1, len(loss) + 1)\n",
        "plt.plot(epochs, loss, 'bo', label='Training loss')\n",
        "plt.plot(epochs, val_loss, 'b', label='Validation loss')\n",
        "plt.title('Training and validation loss')\n",
        "plt.xlabel('Epochs')\n",
        "plt.ylabel('Loss')\n",
        "plt.legend()\n",
        "plt.show()"
      ],
      "execution_count": 62,
      "outputs": [
        {
          "output_type": "display_data",
          "data": {
            "image/png": "[encoded data removed]",
            "text/plain": [
              "<Figure size 432x288 with 1 Axes>"
            ]
          },
          "metadata": {
            "tags": [],
            "needs_background": "light"
          }
        }
      ]
    },
    {
      "cell_type": "code",
      "metadata": {
        "colab": {
          "base_uri": "https://localhost:8080/"
        },
        "id": "_G6WMZCyKalR",
        "outputId": "ccbb09ad-a508-4bd5-9002-e0d44e98475b"
      },
      "source": [
        "test_loss, test_accuracy = model.evaluate(X_test, Y_test)"
      ],
      "execution_count": 63,
      "outputs": [
        {
          "output_type": "stream",
          "text": [
            "2670/2670 [==============================] - 4s 1ms/step - loss: 2.2460 - accuracy: 0.9983\n"
          ],
          "name": "stdout"
        }
      ]
    },
    {
      "cell_type": "code",
      "metadata": {
        "id": "-_2s9OAWMerc"
      },
      "source": [
        "prediction = model.predict(X_test)"
      ],
      "execution_count": 64,
      "outputs": []
    },
    {
      "cell_type": "code",
      "metadata": {
        "colab": {
          "base_uri": "https://localhost:8080/"
        },
        "id": "UuwCXjv6NTfn",
        "outputId": "981104eb-49b7-4e98-f552-9e6410cfbb8d"
      },
      "source": [
        "prediction[0]"
      ],
      "execution_count": 65,
      "outputs": [
        {
          "output_type": "execute_result",
          "data": {
            "text/plain": [
              "array([0.], dtype=float32)"
            ]
          },
          "metadata": {
            "tags": []
          },
          "execution_count": 65
        }
      ]
    },
    {
      "cell_type": "code",
      "metadata": {
        "colab": {
          "base_uri": "https://localhost:8080/"
        },
        "id": "cOR_HYIoNVpz",
        "outputId": "d0b86cb7-0d20-49e2-ca38-df81d1ff643b"
      },
      "source": [
        "prediction[0].shape"
      ],
      "execution_count": 66,
      "outputs": [
        {
          "output_type": "execute_result",
          "data": {
            "text/plain": [
              "(1,)"
            ]
          },
          "metadata": {
            "tags": []
          },
          "execution_count": 66
        }
      ]
    },
    {
      "cell_type": "code",
      "metadata": {
        "colab": {
          "base_uri": "https://localhost:8080/"
        },
        "id": "pGJT-EwTNdRC",
        "outputId": "1b857f92-9c56-4e72-c4d3-0670935c1d74"
      },
      "source": [
        "np.argmax(prediction[0])"
      ],
      "execution_count": 68,
      "outputs": [
        {
          "output_type": "execute_result",
          "data": {
            "text/plain": [
              "0"
            ]
          },
          "metadata": {
            "tags": []
          },
          "execution_count": 68
        }
      ]
    },
    {
      "cell_type": "code",
      "metadata": {
        "id": "hfUB4h2eNloG"
      },
      "source": [
        ""
      ],
      "execution_count": null,
      "outputs": []
    }
  ]
}